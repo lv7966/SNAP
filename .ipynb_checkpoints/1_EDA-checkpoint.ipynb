{
 "cells": [
  {
   "cell_type": "code",
   "execution_count": 1,
   "id": "045cb3e0",
   "metadata": {},
   "outputs": [
    {
     "name": "stdout",
     "output_type": "stream",
     "text": [
      "Requirement already satisfied: pandas in /Library/Frameworks/Python.framework/Versions/3.11/lib/python3.11/site-packages (1.5.2)\n",
      "Requirement already satisfied: python-dateutil>=2.8.1 in /Library/Frameworks/Python.framework/Versions/3.11/lib/python3.11/site-packages (from pandas) (2.8.2)\n",
      "Requirement already satisfied: pytz>=2020.1 in /Library/Frameworks/Python.framework/Versions/3.11/lib/python3.11/site-packages (from pandas) (2022.7)\n",
      "Requirement already satisfied: numpy>=1.21.0 in /Library/Frameworks/Python.framework/Versions/3.11/lib/python3.11/site-packages (from pandas) (1.24.1)\n",
      "Requirement already satisfied: six>=1.5 in /Library/Frameworks/Python.framework/Versions/3.11/lib/python3.11/site-packages (from python-dateutil>=2.8.1->pandas) (1.16.0)\n",
      "Note: you may need to restart the kernel to use updated packages.\n"
     ]
    }
   ],
   "source": [
    "pip install pandas"
   ]
  },
  {
   "cell_type": "code",
   "execution_count": 2,
   "id": "9986576a",
   "metadata": {},
   "outputs": [
    {
     "name": "stdout",
     "output_type": "stream",
     "text": [
      "Requirement already satisfied: numpy in /Library/Frameworks/Python.framework/Versions/3.11/lib/python3.11/site-packages (1.24.1)\n",
      "Note: you may need to restart the kernel to use updated packages.\n"
     ]
    }
   ],
   "source": [
    "pip install numpy"
   ]
  },
  {
   "cell_type": "code",
   "execution_count": 3,
   "id": "b2f456d1",
   "metadata": {},
   "outputs": [
    {
     "ename": "SyntaxError",
     "evalue": "invalid syntax (2447441821.py, line 1)",
     "output_type": "error",
     "traceback": [
      "\u001b[0;36m  Cell \u001b[0;32mIn[3], line 1\u001b[0;36m\u001b[0m\n\u001b[0;31m    python -m pip install -U matplotlib\u001b[0m\n\u001b[0m              ^\u001b[0m\n\u001b[0;31mSyntaxError\u001b[0m\u001b[0;31m:\u001b[0m invalid syntax\n"
     ]
    }
   ],
   "source": [
    "python -m pip install -U matplotlib"
   ]
  },
  {
   "cell_type": "code",
   "execution_count": 4,
   "id": "b020d77c",
   "metadata": {},
   "outputs": [
    {
     "name": "stdout",
     "output_type": "stream",
     "text": [
      "Requirement already satisfied: seaborn in /Library/Frameworks/Python.framework/Versions/3.11/lib/python3.11/site-packages (0.12.2)\n",
      "Requirement already satisfied: numpy!=1.24.0,>=1.17 in /Library/Frameworks/Python.framework/Versions/3.11/lib/python3.11/site-packages (from seaborn) (1.24.1)\n",
      "Requirement already satisfied: pandas>=0.25 in /Library/Frameworks/Python.framework/Versions/3.11/lib/python3.11/site-packages (from seaborn) (1.5.2)\n",
      "Requirement already satisfied: matplotlib!=3.6.1,>=3.1 in /Library/Frameworks/Python.framework/Versions/3.11/lib/python3.11/site-packages (from seaborn) (3.6.3)\n",
      "Requirement already satisfied: contourpy>=1.0.1 in /Library/Frameworks/Python.framework/Versions/3.11/lib/python3.11/site-packages (from matplotlib!=3.6.1,>=3.1->seaborn) (1.0.6)\n",
      "Requirement already satisfied: cycler>=0.10 in /Library/Frameworks/Python.framework/Versions/3.11/lib/python3.11/site-packages (from matplotlib!=3.6.1,>=3.1->seaborn) (0.11.0)\n",
      "Requirement already satisfied: fonttools>=4.22.0 in /Library/Frameworks/Python.framework/Versions/3.11/lib/python3.11/site-packages (from matplotlib!=3.6.1,>=3.1->seaborn) (4.38.0)\n",
      "Requirement already satisfied: kiwisolver>=1.0.1 in /Library/Frameworks/Python.framework/Versions/3.11/lib/python3.11/site-packages (from matplotlib!=3.6.1,>=3.1->seaborn) (1.4.4)\n",
      "Requirement already satisfied: packaging>=20.0 in /Library/Frameworks/Python.framework/Versions/3.11/lib/python3.11/site-packages (from matplotlib!=3.6.1,>=3.1->seaborn) (23.0)\n",
      "Requirement already satisfied: pillow>=6.2.0 in /Library/Frameworks/Python.framework/Versions/3.11/lib/python3.11/site-packages (from matplotlib!=3.6.1,>=3.1->seaborn) (9.4.0)\n",
      "Requirement already satisfied: pyparsing>=2.2.1 in /Library/Frameworks/Python.framework/Versions/3.11/lib/python3.11/site-packages (from matplotlib!=3.6.1,>=3.1->seaborn) (3.0.9)\n",
      "Requirement already satisfied: python-dateutil>=2.7 in /Library/Frameworks/Python.framework/Versions/3.11/lib/python3.11/site-packages (from matplotlib!=3.6.1,>=3.1->seaborn) (2.8.2)\n",
      "Requirement already satisfied: pytz>=2020.1 in /Library/Frameworks/Python.framework/Versions/3.11/lib/python3.11/site-packages (from pandas>=0.25->seaborn) (2022.7)\n",
      "Requirement already satisfied: six>=1.5 in /Library/Frameworks/Python.framework/Versions/3.11/lib/python3.11/site-packages (from python-dateutil>=2.7->matplotlib!=3.6.1,>=3.1->seaborn) (1.16.0)\n",
      "Note: you may need to restart the kernel to use updated packages.\n"
     ]
    }
   ],
   "source": [
    "pip install seaborn"
   ]
  },
  {
   "cell_type": "code",
   "execution_count": 5,
   "id": "20b8f758",
   "metadata": {},
   "outputs": [
    {
     "name": "stdout",
     "output_type": "stream",
     "text": [
      "Collecting scikit-learn\n",
      "  Using cached scikit_learn-1.2.0-cp311-cp311-macosx_10_9_x86_64.whl (9.0 MB)\n",
      "Requirement already satisfied: numpy>=1.17.3 in /Library/Frameworks/Python.framework/Versions/3.11/lib/python3.11/site-packages (from scikit-learn) (1.24.1)\n",
      "Collecting scipy>=1.3.2\n",
      "  Using cached scipy-1.10.0.tar.gz (42.4 MB)\n",
      "  Installing build dependencies ... \u001b[?25ldone\n",
      "\u001b[?25h  Getting requirements to build wheel ... \u001b[?25ldone\n",
      "\u001b[?25h  Installing backend dependencies ... \u001b[?25ldone\n",
      "\u001b[?25h  Preparing metadata (pyproject.toml) ... \u001b[?25lerror\n",
      "  \u001b[1;31merror\u001b[0m: \u001b[1msubprocess-exited-with-error\u001b[0m\n",
      "  \n",
      "  \u001b[31m×\u001b[0m \u001b[32mPreparing metadata \u001b[0m\u001b[1;32m(\u001b[0m\u001b[32mpyproject.toml\u001b[0m\u001b[1;32m)\u001b[0m did not run successfully.\n",
      "  \u001b[31m│\u001b[0m exit code: \u001b[1;36m1\u001b[0m\n",
      "  \u001b[31m╰─>\u001b[0m \u001b[31m[81 lines of output]\u001b[0m\n",
      "  \u001b[31m   \u001b[0m The Meson build system\n",
      "  \u001b[31m   \u001b[0m Version: 1.0.0\n",
      "  \u001b[31m   \u001b[0m Source dir: /private/var/folders/sn/kfvf12317rdf_20kbwkr42mw0000gn/T/pip-install-4g6vky4o/scipy_98d5f983ef5745bcb4e35988e15a785f\n",
      "  \u001b[31m   \u001b[0m Build dir: /private/var/folders/sn/kfvf12317rdf_20kbwkr42mw0000gn/T/pip-install-4g6vky4o/scipy_98d5f983ef5745bcb4e35988e15a785f/.mesonpy-q7lkjw59/build\n",
      "  \u001b[31m   \u001b[0m Build type: native build\n",
      "  \u001b[31m   \u001b[0m Project name: SciPy\n",
      "  \u001b[31m   \u001b[0m Project version: 1.10.0\n",
      "  \u001b[31m   \u001b[0m C compiler for the host machine: cc (clang 10.0.0 \"Apple LLVM version 10.0.0 (clang-1000.10.44.4)\")\n",
      "  \u001b[31m   \u001b[0m C linker for the host machine: cc ld64 409.12\n",
      "  \u001b[31m   \u001b[0m C++ compiler for the host machine: c++ (clang 10.0.0 \"Apple LLVM version 10.0.0 (clang-1000.10.44.4)\")\n",
      "  \u001b[31m   \u001b[0m C++ linker for the host machine: c++ ld64 409.12\n",
      "  \u001b[31m   \u001b[0m Host machine cpu family: x86_64\n",
      "  \u001b[31m   \u001b[0m Host machine cpu: x86_64\n",
      "  \u001b[31m   \u001b[0m Compiler for C supports arguments -Wno-unused-but-set-variable: NO\n",
      "  \u001b[31m   \u001b[0m Compiler for C supports arguments -Wno-unused-function: YES\n",
      "  \u001b[31m   \u001b[0m Compiler for C supports arguments -Wno-conversion: YES\n",
      "  \u001b[31m   \u001b[0m Compiler for C supports arguments -Wno-misleading-indentation: NO\n",
      "  \u001b[31m   \u001b[0m Compiler for C supports arguments -Wno-incompatible-pointer-types: YES\n",
      "  \u001b[31m   \u001b[0m Library m found: YES\n",
      "  \u001b[31m   \u001b[0m \n",
      "  \u001b[31m   \u001b[0m ../../meson.build:63:0: ERROR: Unknown compiler(s): [['gfortran'], ['flang'], ['nvfortran'], ['pgfortran'], ['ifort'], ['ifx'], ['g95']]\n",
      "  \u001b[31m   \u001b[0m The following exception(s) were encountered:\n",
      "  \u001b[31m   \u001b[0m Running `gfortran --version` gave \"[Errno 2] No such file or directory: 'gfortran'\"\n",
      "  \u001b[31m   \u001b[0m Running `gfortran -V` gave \"[Errno 2] No such file or directory: 'gfortran'\"\n",
      "  \u001b[31m   \u001b[0m Running `flang --version` gave \"[Errno 2] No such file or directory: 'flang'\"\n",
      "  \u001b[31m   \u001b[0m Running `flang -V` gave \"[Errno 2] No such file or directory: 'flang'\"\n",
      "  \u001b[31m   \u001b[0m Running `nvfortran --version` gave \"[Errno 2] No such file or directory: 'nvfortran'\"\n",
      "  \u001b[31m   \u001b[0m Running `nvfortran -V` gave \"[Errno 2] No such file or directory: 'nvfortran'\"\n",
      "  \u001b[31m   \u001b[0m Running `pgfortran --version` gave \"[Errno 2] No such file or directory: 'pgfortran'\"\n",
      "  \u001b[31m   \u001b[0m Running `pgfortran -V` gave \"[Errno 2] No such file or directory: 'pgfortran'\"\n",
      "  \u001b[31m   \u001b[0m Running `ifort --version` gave \"[Errno 2] No such file or directory: 'ifort'\"\n",
      "  \u001b[31m   \u001b[0m Running `ifort -V` gave \"[Errno 2] No such file or directory: 'ifort'\"\n",
      "  \u001b[31m   \u001b[0m Running `ifx --version` gave \"[Errno 2] No such file or directory: 'ifx'\"\n",
      "  \u001b[31m   \u001b[0m Running `ifx -V` gave \"[Errno 2] No such file or directory: 'ifx'\"\n",
      "  \u001b[31m   \u001b[0m Running `g95 --version` gave \"[Errno 2] No such file or directory: 'g95'\"\n",
      "  \u001b[31m   \u001b[0m Running `g95 -V` gave \"[Errno 2] No such file or directory: 'g95'\"\n",
      "  \u001b[31m   \u001b[0m \n",
      "  \u001b[31m   \u001b[0m A full log can be found at /private/var/folders/sn/kfvf12317rdf_20kbwkr42mw0000gn/T/pip-install-4g6vky4o/scipy_98d5f983ef5745bcb4e35988e15a785f/.mesonpy-q7lkjw59/build/meson-logs/meson-log.txt\n",
      "  \u001b[31m   \u001b[0m \u001b[36m\u001b[1m+ meson setup --prefix=/Library/Frameworks/Python.framework/Versions/3.11 /private/var/folders/sn/kfvf12317rdf_20kbwkr42mw0000gn/T/pip-install-4g6vky4o/scipy_98d5f983ef5745bcb4e35988e15a785f /private/var/folders/sn/kfvf12317rdf_20kbwkr42mw0000gn/T/pip-install-4g6vky4o/scipy_98d5f983ef5745bcb4e35988e15a785f/.mesonpy-q7lkjw59/build --native-file=/private/var/folders/sn/kfvf12317rdf_20kbwkr42mw0000gn/T/pip-install-4g6vky4o/scipy_98d5f983ef5745bcb4e35988e15a785f/.mesonpy-native-file.ini -Ddebug=false -Doptimization=2\u001b[0m\n",
      "  \u001b[31m   \u001b[0m Traceback (most recent call last):\n",
      "  \u001b[31m   \u001b[0m   File \"/Library/Frameworks/Python.framework/Versions/3.11/lib/python3.11/site-packages/pip/_vendor/pep517/in_process/_in_process.py\", line 144, in prepare_metadata_for_build_wheel\n",
      "  \u001b[31m   \u001b[0m     hook = backend.prepare_metadata_for_build_wheel\n",
      "  \u001b[31m   \u001b[0m            ^^^^^^^^^^^^^^^^^^^^^^^^^^^^^^^^^^^^^^^^\n",
      "  \u001b[31m   \u001b[0m AttributeError: module 'mesonpy' has no attribute 'prepare_metadata_for_build_wheel'\n",
      "  \u001b[31m   \u001b[0m \n",
      "  \u001b[31m   \u001b[0m During handling of the above exception, another exception occurred:\n",
      "  \u001b[31m   \u001b[0m \n",
      "  \u001b[31m   \u001b[0m Traceback (most recent call last):\n",
      "  \u001b[31m   \u001b[0m   File \"/Library/Frameworks/Python.framework/Versions/3.11/lib/python3.11/site-packages/pip/_vendor/pep517/in_process/_in_process.py\", line 351, in <module>\n",
      "  \u001b[31m   \u001b[0m     main()\n",
      "  \u001b[31m   \u001b[0m   File \"/Library/Frameworks/Python.framework/Versions/3.11/lib/python3.11/site-packages/pip/_vendor/pep517/in_process/_in_process.py\", line 333, in main\n",
      "  \u001b[31m   \u001b[0m     json_out['return_val'] = hook(**hook_input['kwargs'])\n",
      "  \u001b[31m   \u001b[0m                              ^^^^^^^^^^^^^^^^^^^^^^^^^^^^\n",
      "  \u001b[31m   \u001b[0m   File \"/Library/Frameworks/Python.framework/Versions/3.11/lib/python3.11/site-packages/pip/_vendor/pep517/in_process/_in_process.py\", line 148, in prepare_metadata_for_build_wheel\n",
      "  \u001b[31m   \u001b[0m     whl_basename = backend.build_wheel(metadata_directory, config_settings)\n",
      "  \u001b[31m   \u001b[0m                    ^^^^^^^^^^^^^^^^^^^^^^^^^^^^^^^^^^^^^^^^^^^^^^^^^^^^^^^^\n",
      "  \u001b[31m   \u001b[0m   File \"/private/var/folders/sn/kfvf12317rdf_20kbwkr42mw0000gn/T/pip-build-env-gagikzx4/overlay/lib/python3.11/site-packages/mesonpy/__init__.py\", line 1060, in build_wheel\n",
      "  \u001b[31m   \u001b[0m     with _project(config_settings) as project:\n",
      "  \u001b[31m   \u001b[0m   File \"/Library/Frameworks/Python.framework/Versions/3.11/lib/python3.11/contextlib.py\", line 137, in __enter__\n",
      "  \u001b[31m   \u001b[0m     return next(self.gen)\n",
      "  \u001b[31m   \u001b[0m            ^^^^^^^^^^^^^^\n",
      "  \u001b[31m   \u001b[0m   File \"/private/var/folders/sn/kfvf12317rdf_20kbwkr42mw0000gn/T/pip-build-env-gagikzx4/overlay/lib/python3.11/site-packages/mesonpy/__init__.py\", line 975, in _project\n",
      "  \u001b[31m   \u001b[0m     with Project.with_temp_working_dir(\n",
      "  \u001b[31m   \u001b[0m   File \"/Library/Frameworks/Python.framework/Versions/3.11/lib/python3.11/contextlib.py\", line 137, in __enter__\n",
      "  \u001b[31m   \u001b[0m     return next(self.gen)\n",
      "  \u001b[31m   \u001b[0m            ^^^^^^^^^^^^^^\n",
      "  \u001b[31m   \u001b[0m   File \"/private/var/folders/sn/kfvf12317rdf_20kbwkr42mw0000gn/T/pip-build-env-gagikzx4/overlay/lib/python3.11/site-packages/mesonpy/__init__.py\", line 750, in with_temp_working_dir\n",
      "  \u001b[31m   \u001b[0m     yield cls(source_dir, tmpdir, build_dir, meson_args)\n",
      "  \u001b[31m   \u001b[0m           ^^^^^^^^^^^^^^^^^^^^^^^^^^^^^^^^^^^^^^^^^^^^^^\n",
      "  \u001b[31m   \u001b[0m   File \"/private/var/folders/sn/kfvf12317rdf_20kbwkr42mw0000gn/T/pip-build-env-gagikzx4/overlay/lib/python3.11/site-packages/mesonpy/__init__.py\", line 632, in __init__\n",
      "  \u001b[31m   \u001b[0m     self._configure(reconfigure=bool(build_dir) and not native_file_mismatch)\n",
      "  \u001b[31m   \u001b[0m   File \"/private/var/folders/sn/kfvf12317rdf_20kbwkr42mw0000gn/T/pip-build-env-gagikzx4/overlay/lib/python3.11/site-packages/mesonpy/__init__.py\", line 680, in _configure\n",
      "  \u001b[31m   \u001b[0m     self._meson('setup', *setup_args)\n",
      "  \u001b[31m   \u001b[0m   File \"/private/var/folders/sn/kfvf12317rdf_20kbwkr42mw0000gn/T/pip-build-env-gagikzx4/overlay/lib/python3.11/site-packages/mesonpy/__init__.py\", line 657, in _meson\n",
      "  \u001b[31m   \u001b[0m     return self._proc('meson', *args)\n",
      "  \u001b[31m   \u001b[0m            ^^^^^^^^^^^^^^^^^^^^^^^^^^\n",
      "  \u001b[31m   \u001b[0m   File \"/private/var/folders/sn/kfvf12317rdf_20kbwkr42mw0000gn/T/pip-build-env-gagikzx4/overlay/lib/python3.11/site-packages/mesonpy/__init__.py\", line 652, in _proc\n",
      "  \u001b[31m   \u001b[0m     subprocess.check_call(list(args), env=self._env)\n",
      "  \u001b[31m   \u001b[0m   File \"/Library/Frameworks/Python.framework/Versions/3.11/lib/python3.11/subprocess.py\", line 413, in check_call\n",
      "  \u001b[31m   \u001b[0m     raise CalledProcessError(retcode, cmd)\n",
      "  \u001b[31m   \u001b[0m subprocess.CalledProcessError: Command '['meson', 'setup', '--prefix=/Library/Frameworks/Python.framework/Versions/3.11', '/private/var/folders/sn/kfvf12317rdf_20kbwkr42mw0000gn/T/pip-install-4g6vky4o/scipy_98d5f983ef5745bcb4e35988e15a785f', '/private/var/folders/sn/kfvf12317rdf_20kbwkr42mw0000gn/T/pip-install-4g6vky4o/scipy_98d5f983ef5745bcb4e35988e15a785f/.mesonpy-q7lkjw59/build', '--native-file=/private/var/folders/sn/kfvf12317rdf_20kbwkr42mw0000gn/T/pip-install-4g6vky4o/scipy_98d5f983ef5745bcb4e35988e15a785f/.mesonpy-native-file.ini', '-Ddebug=false', '-Doptimization=2']' returned non-zero exit status 1.\n",
      "  \u001b[31m   \u001b[0m \u001b[31m[end of output]\u001b[0m\n",
      "  \n",
      "  \u001b[1;35mnote\u001b[0m: This error originates from a subprocess, and is likely not a problem with pip.\n",
      "\u001b[1;31merror\u001b[0m: \u001b[1mmetadata-generation-failed\u001b[0m\n",
      "\n",
      "\u001b[31m×\u001b[0m Encountered error while generating package metadata.\n",
      "\u001b[31m╰─>\u001b[0m See above for output.\n",
      "\n",
      "\u001b[1;35mnote\u001b[0m: This is an issue with the package mentioned above, not pip.\n",
      "\u001b[1;36mhint\u001b[0m: See above for details.\n"
     ]
    },
    {
     "name": "stdout",
     "output_type": "stream",
     "text": [
      "\u001b[?25hNote: you may need to restart the kernel to use updated packages.\n"
     ]
    }
   ],
   "source": [
    "pip install -U scikit-learn"
   ]
  },
  {
   "cell_type": "code",
   "execution_count": 6,
   "id": "60a212da",
   "metadata": {},
   "outputs": [
    {
     "name": "stdout",
     "output_type": "stream",
     "text": [
      "Requirement already satisfied: treeinterpreter in /Library/Frameworks/Python.framework/Versions/3.11/lib/python3.11/site-packages (0.2.3)\n",
      "Note: you may need to restart the kernel to use updated packages.\n"
     ]
    }
   ],
   "source": [
    "pip install treeinterpreter"
   ]
  },
  {
   "cell_type": "code",
   "execution_count": 8,
   "id": "02247707",
   "metadata": {},
   "outputs": [
    {
     "name": "stdout",
     "output_type": "stream",
     "text": [
      "Collecting pickle5\n",
      "  Using cached pickle5-0.0.11.tar.gz (132 kB)\n",
      "  Preparing metadata (setup.py) ... \u001b[?25ldone\n",
      "\u001b[?25hBuilding wheels for collected packages: pickle5\n",
      "  Building wheel for pickle5 (setup.py) ... \u001b[?25lerror\n",
      "  \u001b[1;31merror\u001b[0m: \u001b[1msubprocess-exited-with-error\u001b[0m\n",
      "  \n",
      "  \u001b[31m×\u001b[0m \u001b[32mpython setup.py bdist_wheel\u001b[0m did not run successfully.\n",
      "  \u001b[31m│\u001b[0m exit code: \u001b[1;36m1\u001b[0m\n",
      "  \u001b[31m╰─>\u001b[0m \u001b[31m[78 lines of output]\u001b[0m\n",
      "  \u001b[31m   \u001b[0m running bdist_wheel\n",
      "  \u001b[31m   \u001b[0m running build\n",
      "  \u001b[31m   \u001b[0m running build_py\n",
      "  \u001b[31m   \u001b[0m creating build\n",
      "  \u001b[31m   \u001b[0m creating build/lib.macosx-10.9-universal2-cpython-311\n",
      "  \u001b[31m   \u001b[0m creating build/lib.macosx-10.9-universal2-cpython-311/pickle5\n",
      "  \u001b[31m   \u001b[0m copying pickle5/__init__.py -> build/lib.macosx-10.9-universal2-cpython-311/pickle5\n",
      "  \u001b[31m   \u001b[0m copying pickle5/pickletools.py -> build/lib.macosx-10.9-universal2-cpython-311/pickle5\n",
      "  \u001b[31m   \u001b[0m copying pickle5/pickle.py -> build/lib.macosx-10.9-universal2-cpython-311/pickle5\n",
      "  \u001b[31m   \u001b[0m creating build/lib.macosx-10.9-universal2-cpython-311/pickle5/test\n",
      "  \u001b[31m   \u001b[0m copying pickle5/test/test_pickle.py -> build/lib.macosx-10.9-universal2-cpython-311/pickle5/test\n",
      "  \u001b[31m   \u001b[0m copying pickle5/test/pickletester.py -> build/lib.macosx-10.9-universal2-cpython-311/pickle5/test\n",
      "  \u001b[31m   \u001b[0m copying pickle5/test/test_picklebuffer.py -> build/lib.macosx-10.9-universal2-cpython-311/pickle5/test\n",
      "  \u001b[31m   \u001b[0m copying pickle5/test/__init__.py -> build/lib.macosx-10.9-universal2-cpython-311/pickle5/test\n",
      "  \u001b[31m   \u001b[0m running build_ext\n",
      "  \u001b[31m   \u001b[0m building 'pickle5._pickle' extension\n",
      "  \u001b[31m   \u001b[0m creating build/temp.macosx-10.9-universal2-cpython-311\n",
      "  \u001b[31m   \u001b[0m creating build/temp.macosx-10.9-universal2-cpython-311/pickle5\n",
      "  \u001b[31m   \u001b[0m clang -Wsign-compare -Wunreachable-code -fno-common -dynamic -DNDEBUG -g -fwrapv -O3 -Wall -arch x86_64 -g -I/Library/Frameworks/Python.framework/Versions/3.11/include/python3.11 -c pickle5/_pickle.c -o build/temp.macosx-10.9-universal2-cpython-311/pickle5/_pickle.o -std=c99\n",
      "  \u001b[31m   \u001b[0m pickle5/_pickle.c:464:19: error: expression is not assignable\n",
      "  \u001b[31m   \u001b[0m     Py_SIZE(self) = 0;\n",
      "  \u001b[31m   \u001b[0m     ~~~~~~~~~~~~~ ^\n",
      "  \u001b[31m   \u001b[0m pickle5/_pickle.c:491:19: error: expression is not assignable\n",
      "  \u001b[31m   \u001b[0m     Py_SIZE(self) = clearto;\n",
      "  \u001b[31m   \u001b[0m     ~~~~~~~~~~~~~ ^\n",
      "  \u001b[31m   \u001b[0m pickle5/_pickle.c:542:23: error: expression is not assignable\n",
      "  \u001b[31m   \u001b[0m     return self->data[--Py_SIZE(self)];\n",
      "  \u001b[31m   \u001b[0m                       ^ ~~~~~~~~~~~~~\n",
      "  \u001b[31m   \u001b[0m pickle5/_pickle.c:552:29: error: expression is not assignable\n",
      "  \u001b[31m   \u001b[0m     self->data[Py_SIZE(self)++] = obj;\n",
      "  \u001b[31m   \u001b[0m                ~~~~~~~~~~~~~^\n",
      "  \u001b[31m   \u001b[0m pickle5/_pickle.c:582:19: error: expression is not assignable\n",
      "  \u001b[31m   \u001b[0m     Py_SIZE(self) = start;\n",
      "  \u001b[31m   \u001b[0m     ~~~~~~~~~~~~~ ^\n",
      "  \u001b[31m   \u001b[0m pickle5/_pickle.c:599:19: error: expression is not assignable\n",
      "  \u001b[31m   \u001b[0m     Py_SIZE(self) = start;\n",
      "  \u001b[31m   \u001b[0m     ~~~~~~~~~~~~~ ^\n",
      "  \u001b[31m   \u001b[0m pickle5/_pickle.c:1285:16: warning: implicit declaration of function '_PyObject_CallNoArg' is invalid in C99 [-Wimplicit-function-declaration]\n",
      "  \u001b[31m   \u001b[0m         data = _PyObject_CallNoArg(self->readline);\n",
      "  \u001b[31m   \u001b[0m                ^\n",
      "  \u001b[31m   \u001b[0m pickle5/_pickle.c:1285:14: warning: incompatible integer to pointer conversion assigning to 'PyObject *' (aka 'struct _object *') from 'int' [-Wint-conversion]\n",
      "  \u001b[31m   \u001b[0m         data = _PyObject_CallNoArg(self->readline);\n",
      "  \u001b[31m   \u001b[0m              ^ ~~~~~~~~~~~~~~~~~~~~~~~~~~~~~~~~~~~\n",
      "  \u001b[31m   \u001b[0m pickle5/_pickle.c:1937:15: warning: implicit declaration of function '_PySys_GetObjectId' is invalid in C99 [-Wimplicit-function-declaration]\n",
      "  \u001b[31m   \u001b[0m     modules = _PySys_GetObjectId(&PyId_modules);\n",
      "  \u001b[31m   \u001b[0m               ^\n",
      "  \u001b[31m   \u001b[0m pickle5/_pickle.c:1937:13: warning: incompatible integer to pointer conversion assigning to 'PyObject *' (aka 'struct _object *') from 'int' [-Wint-conversion]\n",
      "  \u001b[31m   \u001b[0m     modules = _PySys_GetObjectId(&PyId_modules);\n",
      "  \u001b[31m   \u001b[0m             ^ ~~~~~~~~~~~~~~~~~~~~~~~~~~~~~~~~~\n",
      "  \u001b[31m   \u001b[0m pickle5/_pickle.c:2255:13: warning: implicit declaration of function '_PyFloat_Pack8' is invalid in C99 [-Wimplicit-function-declaration]\n",
      "  \u001b[31m   \u001b[0m         if (_PyFloat_Pack8(x, (unsigned char *)&pdata[1], 0) < 0)\n",
      "  \u001b[31m   \u001b[0m             ^\n",
      "  \u001b[31m   \u001b[0m pickle5/_pickle.c:4452:32: warning: implicit declaration of function '_PyObject_CallNoArg' is invalid in C99 [-Wimplicit-function-declaration]\n",
      "  \u001b[31m   \u001b[0m                 reduce_value = _PyObject_CallNoArg(reduce_func);\n",
      "  \u001b[31m   \u001b[0m                                ^\n",
      "  \u001b[31m   \u001b[0m pickle5/_pickle.c:4452:30: warning: incompatible integer to pointer conversion assigning to 'PyObject *' (aka 'struct _object *') from 'int' [-Wint-conversion]\n",
      "  \u001b[31m   \u001b[0m                 reduce_value = _PyObject_CallNoArg(reduce_func);\n",
      "  \u001b[31m   \u001b[0m                              ^ ~~~~~~~~~~~~~~~~~~~~~~~~~~~~~~~~\n",
      "  \u001b[31m   \u001b[0m pickle5/_pickle.c:5428:9: warning: implicit declaration of function '_PyFloat_Unpack8' is invalid in C99 [-Wimplicit-function-declaration]\n",
      "  \u001b[31m   \u001b[0m     x = _PyFloat_Unpack8((unsigned char *)s, 0);\n",
      "  \u001b[31m   \u001b[0m         ^\n",
      "  \u001b[31m   \u001b[0m pickle5/_pickle.c:6178:30: error: expression is not assignable\n",
      "  \u001b[31m   \u001b[0m         Py_SIZE(self->stack) = len;\n",
      "  \u001b[31m   \u001b[0m         ~~~~~~~~~~~~~~~~~~~~ ^\n",
      "  \u001b[31m   \u001b[0m pickle5/_pickle.c:6535:42: error: expression is not assignable\n",
      "  \u001b[31m   \u001b[0m                     Py_SIZE(self->stack) = x;\n",
      "  \u001b[31m   \u001b[0m                     ~~~~~~~~~~~~~~~~~~~~ ^\n",
      "  \u001b[31m   \u001b[0m pickle5/_pickle.c:6541:34: error: expression is not assignable\n",
      "  \u001b[31m   \u001b[0m             Py_SIZE(self->stack) = x;\n",
      "  \u001b[31m   \u001b[0m             ~~~~~~~~~~~~~~~~~~~~ ^\n",
      "  \u001b[31m   \u001b[0m pickle5/_pickle.c:6663:38: error: expression is not assignable\n",
      "  \u001b[31m   \u001b[0m                 Py_SIZE(self->stack) = mark;\n",
      "  \u001b[31m   \u001b[0m                 ~~~~~~~~~~~~~~~~~~~~ ^\n",
      "  \u001b[31m   \u001b[0m pickle5/_pickle.c:6668:30: error: expression is not assignable\n",
      "  \u001b[31m   \u001b[0m         Py_SIZE(self->stack) = mark;\n",
      "  \u001b[31m   \u001b[0m         ~~~~~~~~~~~~~~~~~~~~ ^\n",
      "  \u001b[31m   \u001b[0m 8 warnings and 11 errors generated.\n",
      "  \u001b[31m   \u001b[0m error: command '/usr/bin/clang' failed with exit code 1\n",
      "  \u001b[31m   \u001b[0m \u001b[31m[end of output]\u001b[0m\n",
      "  \n",
      "  \u001b[1;35mnote\u001b[0m: This error originates from a subprocess, and is likely not a problem with pip.\n",
      "\u001b[31m  ERROR: Failed building wheel for pickle5\u001b[0m\u001b[31m\n",
      "\u001b[0m\u001b[?25h  Running setup.py clean for pickle5\n",
      "Failed to build pickle5\n",
      "Installing collected packages: pickle5\n",
      "  Running setup.py install for pickle5 ... \u001b[?25lerror\n",
      "  \u001b[1;31merror\u001b[0m: \u001b[1msubprocess-exited-with-error\u001b[0m\n",
      "  \n",
      "  \u001b[31m×\u001b[0m \u001b[32mRunning setup.py install for pickle5\u001b[0m did not run successfully.\n",
      "  \u001b[31m│\u001b[0m exit code: \u001b[1;36m1\u001b[0m\n",
      "  \u001b[31m╰─>\u001b[0m \u001b[31m[80 lines of output]\u001b[0m\n",
      "  \u001b[31m   \u001b[0m running install\n",
      "  \u001b[31m   \u001b[0m /Library/Frameworks/Python.framework/Versions/3.11/lib/python3.11/site-packages/setuptools/command/install.py:34: SetuptoolsDeprecationWarning: setup.py install is deprecated. Use build and pip and other standards-based tools.\n",
      "  \u001b[31m   \u001b[0m   warnings.warn(\n",
      "  \u001b[31m   \u001b[0m running build\n",
      "  \u001b[31m   \u001b[0m running build_py\n",
      "  \u001b[31m   \u001b[0m creating build\n",
      "  \u001b[31m   \u001b[0m creating build/lib.macosx-10.9-universal2-cpython-311\n",
      "  \u001b[31m   \u001b[0m creating build/lib.macosx-10.9-universal2-cpython-311/pickle5\n",
      "  \u001b[31m   \u001b[0m copying pickle5/__init__.py -> build/lib.macosx-10.9-universal2-cpython-311/pickle5\n",
      "  \u001b[31m   \u001b[0m copying pickle5/pickletools.py -> build/lib.macosx-10.9-universal2-cpython-311/pickle5\n",
      "  \u001b[31m   \u001b[0m copying pickle5/pickle.py -> build/lib.macosx-10.9-universal2-cpython-311/pickle5\n",
      "  \u001b[31m   \u001b[0m creating build/lib.macosx-10.9-universal2-cpython-311/pickle5/test\n",
      "  \u001b[31m   \u001b[0m copying pickle5/test/test_pickle.py -> build/lib.macosx-10.9-universal2-cpython-311/pickle5/test\n",
      "  \u001b[31m   \u001b[0m copying pickle5/test/pickletester.py -> build/lib.macosx-10.9-universal2-cpython-311/pickle5/test\n",
      "  \u001b[31m   \u001b[0m copying pickle5/test/test_picklebuffer.py -> build/lib.macosx-10.9-universal2-cpython-311/pickle5/test\n",
      "  \u001b[31m   \u001b[0m copying pickle5/test/__init__.py -> build/lib.macosx-10.9-universal2-cpython-311/pickle5/test\n",
      "  \u001b[31m   \u001b[0m running build_ext\n",
      "  \u001b[31m   \u001b[0m building 'pickle5._pickle' extension\n",
      "  \u001b[31m   \u001b[0m creating build/temp.macosx-10.9-universal2-cpython-311\n",
      "  \u001b[31m   \u001b[0m creating build/temp.macosx-10.9-universal2-cpython-311/pickle5\n",
      "  \u001b[31m   \u001b[0m clang -Wsign-compare -Wunreachable-code -fno-common -dynamic -DNDEBUG -g -fwrapv -O3 -Wall -arch x86_64 -g -I/Library/Frameworks/Python.framework/Versions/3.11/include/python3.11 -c pickle5/_pickle.c -o build/temp.macosx-10.9-universal2-cpython-311/pickle5/_pickle.o -std=c99\n",
      "  \u001b[31m   \u001b[0m pickle5/_pickle.c:464:19: error: expression is not assignable\n",
      "  \u001b[31m   \u001b[0m     Py_SIZE(self) = 0;\n",
      "  \u001b[31m   \u001b[0m     ~~~~~~~~~~~~~ ^\n",
      "  \u001b[31m   \u001b[0m pickle5/_pickle.c:491:19: error: expression is not assignable\n",
      "  \u001b[31m   \u001b[0m     Py_SIZE(self) = clearto;\n",
      "  \u001b[31m   \u001b[0m     ~~~~~~~~~~~~~ ^\n",
      "  \u001b[31m   \u001b[0m pickle5/_pickle.c:542:23: error: expression is not assignable\n",
      "  \u001b[31m   \u001b[0m     return self->data[--Py_SIZE(self)];\n",
      "  \u001b[31m   \u001b[0m                       ^ ~~~~~~~~~~~~~\n",
      "  \u001b[31m   \u001b[0m pickle5/_pickle.c:552:29: error: expression is not assignable\n",
      "  \u001b[31m   \u001b[0m     self->data[Py_SIZE(self)++] = obj;\n",
      "  \u001b[31m   \u001b[0m                ~~~~~~~~~~~~~^\n",
      "  \u001b[31m   \u001b[0m pickle5/_pickle.c:582:19: error: expression is not assignable\n",
      "  \u001b[31m   \u001b[0m     Py_SIZE(self) = start;\n",
      "  \u001b[31m   \u001b[0m     ~~~~~~~~~~~~~ ^\n",
      "  \u001b[31m   \u001b[0m pickle5/_pickle.c:599:19: error: expression is not assignable\n",
      "  \u001b[31m   \u001b[0m     Py_SIZE(self) = start;\n",
      "  \u001b[31m   \u001b[0m     ~~~~~~~~~~~~~ ^\n",
      "  \u001b[31m   \u001b[0m pickle5/_pickle.c:1285:16: warning: implicit declaration of function '_PyObject_CallNoArg' is invalid in C99 [-Wimplicit-function-declaration]\n",
      "  \u001b[31m   \u001b[0m         data = _PyObject_CallNoArg(self->readline);\n",
      "  \u001b[31m   \u001b[0m                ^\n",
      "  \u001b[31m   \u001b[0m pickle5/_pickle.c:1285:14: warning: incompatible integer to pointer conversion assigning to 'PyObject *' (aka 'struct _object *') from 'int' [-Wint-conversion]\n",
      "  \u001b[31m   \u001b[0m         data = _PyObject_CallNoArg(self->readline);\n",
      "  \u001b[31m   \u001b[0m              ^ ~~~~~~~~~~~~~~~~~~~~~~~~~~~~~~~~~~~\n",
      "  \u001b[31m   \u001b[0m pickle5/_pickle.c:1937:15: warning: implicit declaration of function '_PySys_GetObjectId' is invalid in C99 [-Wimplicit-function-declaration]\n",
      "  \u001b[31m   \u001b[0m     modules = _PySys_GetObjectId(&PyId_modules);\n",
      "  \u001b[31m   \u001b[0m               ^\n",
      "  \u001b[31m   \u001b[0m pickle5/_pickle.c:1937:13: warning: incompatible integer to pointer conversion assigning to 'PyObject *' (aka 'struct _object *') from 'int' [-Wint-conversion]\n",
      "  \u001b[31m   \u001b[0m     modules = _PySys_GetObjectId(&PyId_modules);\n",
      "  \u001b[31m   \u001b[0m             ^ ~~~~~~~~~~~~~~~~~~~~~~~~~~~~~~~~~\n",
      "  \u001b[31m   \u001b[0m pickle5/_pickle.c:2255:13: warning: implicit declaration of function '_PyFloat_Pack8' is invalid in C99 [-Wimplicit-function-declaration]\n",
      "  \u001b[31m   \u001b[0m         if (_PyFloat_Pack8(x, (unsigned char *)&pdata[1], 0) < 0)\n",
      "  \u001b[31m   \u001b[0m             ^\n",
      "  \u001b[31m   \u001b[0m pickle5/_pickle.c:4452:32: warning: implicit declaration of function '_PyObject_CallNoArg' is invalid in C99 [-Wimplicit-function-declaration]\n",
      "  \u001b[31m   \u001b[0m                 reduce_value = _PyObject_CallNoArg(reduce_func);\n",
      "  \u001b[31m   \u001b[0m                                ^\n",
      "  \u001b[31m   \u001b[0m pickle5/_pickle.c:4452:30: warning: incompatible integer to pointer conversion assigning to 'PyObject *' (aka 'struct _object *') from 'int' [-Wint-conversion]\n",
      "  \u001b[31m   \u001b[0m                 reduce_value = _PyObject_CallNoArg(reduce_func);\n",
      "  \u001b[31m   \u001b[0m                              ^ ~~~~~~~~~~~~~~~~~~~~~~~~~~~~~~~~\n",
      "  \u001b[31m   \u001b[0m pickle5/_pickle.c:5428:9: warning: implicit declaration of function '_PyFloat_Unpack8' is invalid in C99 [-Wimplicit-function-declaration]\n",
      "  \u001b[31m   \u001b[0m     x = _PyFloat_Unpack8((unsigned char *)s, 0);\n",
      "  \u001b[31m   \u001b[0m         ^\n",
      "  \u001b[31m   \u001b[0m pickle5/_pickle.c:6178:30: error: expression is not assignable\n",
      "  \u001b[31m   \u001b[0m         Py_SIZE(self->stack) = len;\n",
      "  \u001b[31m   \u001b[0m         ~~~~~~~~~~~~~~~~~~~~ ^\n",
      "  \u001b[31m   \u001b[0m pickle5/_pickle.c:6535:42: error: expression is not assignable\n",
      "  \u001b[31m   \u001b[0m                     Py_SIZE(self->stack) = x;\n",
      "  \u001b[31m   \u001b[0m                     ~~~~~~~~~~~~~~~~~~~~ ^\n",
      "  \u001b[31m   \u001b[0m pickle5/_pickle.c:6541:34: error: expression is not assignable\n",
      "  \u001b[31m   \u001b[0m             Py_SIZE(self->stack) = x;\n",
      "  \u001b[31m   \u001b[0m             ~~~~~~~~~~~~~~~~~~~~ ^\n",
      "  \u001b[31m   \u001b[0m pickle5/_pickle.c:6663:38: error: expression is not assignable\n",
      "  \u001b[31m   \u001b[0m                 Py_SIZE(self->stack) = mark;\n",
      "  \u001b[31m   \u001b[0m                 ~~~~~~~~~~~~~~~~~~~~ ^\n",
      "  \u001b[31m   \u001b[0m pickle5/_pickle.c:6668:30: error: expression is not assignable\n",
      "  \u001b[31m   \u001b[0m         Py_SIZE(self->stack) = mark;\n",
      "  \u001b[31m   \u001b[0m         ~~~~~~~~~~~~~~~~~~~~ ^\n",
      "  \u001b[31m   \u001b[0m 8 warnings and 11 errors generated.\n",
      "  \u001b[31m   \u001b[0m error: command '/usr/bin/clang' failed with exit code 1\n",
      "  \u001b[31m   \u001b[0m \u001b[31m[end of output]\u001b[0m\n",
      "  \n",
      "  \u001b[1;35mnote\u001b[0m: This error originates from a subprocess, and is likely not a problem with pip.\n",
      "\u001b[1;31merror\u001b[0m: \u001b[1mlegacy-install-failure\u001b[0m\n",
      "\n",
      "\u001b[31m×\u001b[0m Encountered error while trying to install package.\n",
      "\u001b[31m╰─>\u001b[0m pickle5\n",
      "\n",
      "\u001b[1;35mnote\u001b[0m: This is an issue with the package mentioned above, not pip.\n",
      "\u001b[1;36mhint\u001b[0m: See above for output from the failure.\n"
     ]
    },
    {
     "name": "stdout",
     "output_type": "stream",
     "text": [
      "\u001b[?25hNote: you may need to restart the kernel to use updated packages.\n"
     ]
    }
   ],
   "source": [
    "pip install pickle5"
   ]
  },
  {
   "cell_type": "markdown",
   "id": "f629267d",
   "metadata": {},
   "source": [
    "These are my attempts at installing the python packages above. Next, I'll show you the problems I encounter when trying to do the imports."
   ]
  },
  {
   "cell_type": "code",
   "execution_count": 9,
   "id": "505988f7",
   "metadata": {},
   "outputs": [
    {
     "ename": "ImportError",
     "evalue": "dlopen(/Library/Frameworks/Python.framework/Versions/3.11/lib/python3.11/site-packages/PIL/_imaging.cpython-311-darwin.so, 2): Library not loaded: @loader_path/libXdmcp.6.dylib\n  Referenced from: /Library/Frameworks/Python.framework/Versions/3.11/lib/python3.11/site-packages/PIL/.dylibs/libxcb.1.1.0.dylib\n  Reason: no suitable image found.  Did find:\n\t/Library/Frameworks/Python.framework/Versions/3.11/lib/python3.11/site-packages/PIL/.dylibs/libXdmcp.6.dylib: cannot load 'libXdmcp.6.dylib' (load command 0x80000034 is unknown)\n\t/Library/Frameworks/Python.framework/Versions/3.11/lib/python3.11/site-packages/PIL/.dylibs/libXdmcp.6.dylib: cannot load 'libXdmcp.6.dylib' (load command 0x80000034 is unknown)",
     "output_type": "error",
     "traceback": [
      "\u001b[0;31m---------------------------------------------------------------------------\u001b[0m",
      "\u001b[0;31mImportError\u001b[0m                               Traceback (most recent call last)",
      "Cell \u001b[0;32mIn[9], line 3\u001b[0m\n\u001b[1;32m      1\u001b[0m \u001b[38;5;28;01mimport\u001b[39;00m \u001b[38;5;21;01mpandas\u001b[39;00m \u001b[38;5;28;01mas\u001b[39;00m \u001b[38;5;21;01mpd\u001b[39;00m\n\u001b[1;32m      2\u001b[0m \u001b[38;5;28;01mimport\u001b[39;00m \u001b[38;5;21;01mnumpy\u001b[39;00m \u001b[38;5;28;01mas\u001b[39;00m \u001b[38;5;21;01mnp\u001b[39;00m\n\u001b[0;32m----> 3\u001b[0m \u001b[38;5;28;01mimport\u001b[39;00m \u001b[38;5;21;01mmatplotlib\u001b[39;00m\u001b[38;5;21;01m.\u001b[39;00m\u001b[38;5;21;01mpyplot\u001b[39;00m \u001b[38;5;28;01mas\u001b[39;00m \u001b[38;5;21;01mplt\u001b[39;00m\n\u001b[1;32m      4\u001b[0m \u001b[38;5;28;01mimport\u001b[39;00m \u001b[38;5;21;01mseaborn\u001b[39;00m \u001b[38;5;28;01mas\u001b[39;00m \u001b[38;5;21;01msns\u001b[39;00m\n\u001b[1;32m      6\u001b[0m \u001b[38;5;28;01mfrom\u001b[39;00m \u001b[38;5;21;01msklearn\u001b[39;00m\u001b[38;5;21;01m.\u001b[39;00m\u001b[38;5;21;01mimpute\u001b[39;00m \u001b[38;5;28;01mimport\u001b[39;00m SimpleImputer\n",
      "File \u001b[0;32m/Library/Frameworks/Python.framework/Versions/3.11/lib/python3.11/site-packages/matplotlib/__init__.py:113\u001b[0m\n\u001b[1;32m    109\u001b[0m \u001b[38;5;28;01mfrom\u001b[39;00m \u001b[38;5;21;01mpackaging\u001b[39;00m\u001b[38;5;21;01m.\u001b[39;00m\u001b[38;5;21;01mversion\u001b[39;00m \u001b[38;5;28;01mimport\u001b[39;00m parse \u001b[38;5;28;01mas\u001b[39;00m parse_version\n\u001b[1;32m    111\u001b[0m \u001b[38;5;66;03m# cbook must import matplotlib only within function\u001b[39;00m\n\u001b[1;32m    112\u001b[0m \u001b[38;5;66;03m# definitions, so it is safe to import from it here.\u001b[39;00m\n\u001b[0;32m--> 113\u001b[0m \u001b[38;5;28;01mfrom\u001b[39;00m \u001b[38;5;21;01m.\u001b[39;00m \u001b[38;5;28;01mimport\u001b[39;00m _api, _version, cbook, _docstring, rcsetup\n\u001b[1;32m    114\u001b[0m \u001b[38;5;28;01mfrom\u001b[39;00m \u001b[38;5;21;01mmatplotlib\u001b[39;00m\u001b[38;5;21;01m.\u001b[39;00m\u001b[38;5;21;01mcbook\u001b[39;00m \u001b[38;5;28;01mimport\u001b[39;00m sanitize_sequence\n\u001b[1;32m    115\u001b[0m \u001b[38;5;28;01mfrom\u001b[39;00m \u001b[38;5;21;01mmatplotlib\u001b[39;00m\u001b[38;5;21;01m.\u001b[39;00m\u001b[38;5;21;01m_api\u001b[39;00m \u001b[38;5;28;01mimport\u001b[39;00m MatplotlibDeprecationWarning\n",
      "File \u001b[0;32m/Library/Frameworks/Python.framework/Versions/3.11/lib/python3.11/site-packages/matplotlib/rcsetup.py:27\u001b[0m\n\u001b[1;32m     25\u001b[0m \u001b[38;5;28;01mfrom\u001b[39;00m \u001b[38;5;21;01mmatplotlib\u001b[39;00m \u001b[38;5;28;01mimport\u001b[39;00m _api, cbook\n\u001b[1;32m     26\u001b[0m \u001b[38;5;28;01mfrom\u001b[39;00m \u001b[38;5;21;01mmatplotlib\u001b[39;00m\u001b[38;5;21;01m.\u001b[39;00m\u001b[38;5;21;01mcbook\u001b[39;00m \u001b[38;5;28;01mimport\u001b[39;00m ls_mapper\n\u001b[0;32m---> 27\u001b[0m \u001b[38;5;28;01mfrom\u001b[39;00m \u001b[38;5;21;01mmatplotlib\u001b[39;00m\u001b[38;5;21;01m.\u001b[39;00m\u001b[38;5;21;01mcolors\u001b[39;00m \u001b[38;5;28;01mimport\u001b[39;00m Colormap, is_color_like\n\u001b[1;32m     28\u001b[0m \u001b[38;5;28;01mfrom\u001b[39;00m \u001b[38;5;21;01mmatplotlib\u001b[39;00m\u001b[38;5;21;01m.\u001b[39;00m\u001b[38;5;21;01m_fontconfig_pattern\u001b[39;00m \u001b[38;5;28;01mimport\u001b[39;00m parse_fontconfig_pattern\n\u001b[1;32m     29\u001b[0m \u001b[38;5;28;01mfrom\u001b[39;00m \u001b[38;5;21;01mmatplotlib\u001b[39;00m\u001b[38;5;21;01m.\u001b[39;00m\u001b[38;5;21;01m_enums\u001b[39;00m \u001b[38;5;28;01mimport\u001b[39;00m JoinStyle, CapStyle\n",
      "File \u001b[0;32m/Library/Frameworks/Python.framework/Versions/3.11/lib/python3.11/site-packages/matplotlib/colors.py:51\u001b[0m\n\u001b[1;32m     49\u001b[0m \u001b[38;5;28;01mfrom\u001b[39;00m \u001b[38;5;21;01mnumbers\u001b[39;00m \u001b[38;5;28;01mimport\u001b[39;00m Number\n\u001b[1;32m     50\u001b[0m \u001b[38;5;28;01mimport\u001b[39;00m \u001b[38;5;21;01mre\u001b[39;00m\n\u001b[0;32m---> 51\u001b[0m \u001b[38;5;28;01mfrom\u001b[39;00m \u001b[38;5;21;01mPIL\u001b[39;00m \u001b[38;5;28;01mimport\u001b[39;00m Image\n\u001b[1;32m     52\u001b[0m \u001b[38;5;28;01mfrom\u001b[39;00m \u001b[38;5;21;01mPIL\u001b[39;00m\u001b[38;5;21;01m.\u001b[39;00m\u001b[38;5;21;01mPngImagePlugin\u001b[39;00m \u001b[38;5;28;01mimport\u001b[39;00m PngInfo\n\u001b[1;32m     54\u001b[0m \u001b[38;5;28;01mimport\u001b[39;00m \u001b[38;5;21;01mmatplotlib\u001b[39;00m \u001b[38;5;28;01mas\u001b[39;00m \u001b[38;5;21;01mmpl\u001b[39;00m\n",
      "File \u001b[0;32m/Library/Frameworks/Python.framework/Versions/3.11/lib/python3.11/site-packages/PIL/Image.py:103\u001b[0m\n\u001b[1;32m     94\u001b[0m MAX_IMAGE_PIXELS \u001b[38;5;241m=\u001b[39m \u001b[38;5;28mint\u001b[39m(\u001b[38;5;241m1024\u001b[39m \u001b[38;5;241m*\u001b[39m \u001b[38;5;241m1024\u001b[39m \u001b[38;5;241m*\u001b[39m \u001b[38;5;241m1024\u001b[39m \u001b[38;5;241m/\u001b[39m\u001b[38;5;241m/\u001b[39m \u001b[38;5;241m4\u001b[39m \u001b[38;5;241m/\u001b[39m\u001b[38;5;241m/\u001b[39m \u001b[38;5;241m3\u001b[39m)\n\u001b[1;32m     97\u001b[0m \u001b[38;5;28;01mtry\u001b[39;00m:\n\u001b[1;32m     98\u001b[0m     \u001b[38;5;66;03m# If the _imaging C module is not present, Pillow will not load.\u001b[39;00m\n\u001b[1;32m     99\u001b[0m     \u001b[38;5;66;03m# Note that other modules should not refer to _imaging directly;\u001b[39;00m\n\u001b[1;32m    100\u001b[0m     \u001b[38;5;66;03m# import Image and use the Image.core variable instead.\u001b[39;00m\n\u001b[1;32m    101\u001b[0m     \u001b[38;5;66;03m# Also note that Image.core is not a publicly documented interface,\u001b[39;00m\n\u001b[1;32m    102\u001b[0m     \u001b[38;5;66;03m# and should be considered private and subject to change.\u001b[39;00m\n\u001b[0;32m--> 103\u001b[0m     \u001b[38;5;28;01mfrom\u001b[39;00m \u001b[38;5;21;01m.\u001b[39;00m \u001b[38;5;28;01mimport\u001b[39;00m _imaging \u001b[38;5;28;01mas\u001b[39;00m core\n\u001b[1;32m    105\u001b[0m     \u001b[38;5;28;01mif\u001b[39;00m __version__ \u001b[38;5;241m!=\u001b[39m \u001b[38;5;28mgetattr\u001b[39m(core, \u001b[38;5;124m\"\u001b[39m\u001b[38;5;124mPILLOW_VERSION\u001b[39m\u001b[38;5;124m\"\u001b[39m, \u001b[38;5;28;01mNone\u001b[39;00m):\n\u001b[1;32m    106\u001b[0m         msg \u001b[38;5;241m=\u001b[39m (\n\u001b[1;32m    107\u001b[0m             \u001b[38;5;124m\"\u001b[39m\u001b[38;5;124mThe _imaging extension was built for another version of Pillow or PIL:\u001b[39m\u001b[38;5;130;01m\\n\u001b[39;00m\u001b[38;5;124m\"\u001b[39m\n\u001b[1;32m    108\u001b[0m             \u001b[38;5;124mf\u001b[39m\u001b[38;5;124m\"\u001b[39m\u001b[38;5;124mCore version: \u001b[39m\u001b[38;5;132;01m{\u001b[39;00m\u001b[38;5;28mgetattr\u001b[39m(core,\u001b[38;5;250m \u001b[39m\u001b[38;5;124m'\u001b[39m\u001b[38;5;124mPILLOW_VERSION\u001b[39m\u001b[38;5;124m'\u001b[39m,\u001b[38;5;250m \u001b[39m\u001b[38;5;28;01mNone\u001b[39;00m)\u001b[38;5;132;01m}\u001b[39;00m\u001b[38;5;130;01m\\n\u001b[39;00m\u001b[38;5;124m\"\u001b[39m\n\u001b[1;32m    109\u001b[0m             \u001b[38;5;124mf\u001b[39m\u001b[38;5;124m\"\u001b[39m\u001b[38;5;124mPillow version: \u001b[39m\u001b[38;5;132;01m{\u001b[39;00m__version__\u001b[38;5;132;01m}\u001b[39;00m\u001b[38;5;124m\"\u001b[39m\n\u001b[1;32m    110\u001b[0m         )\n",
      "\u001b[0;31mImportError\u001b[0m: dlopen(/Library/Frameworks/Python.framework/Versions/3.11/lib/python3.11/site-packages/PIL/_imaging.cpython-311-darwin.so, 2): Library not loaded: @loader_path/libXdmcp.6.dylib\n  Referenced from: /Library/Frameworks/Python.framework/Versions/3.11/lib/python3.11/site-packages/PIL/.dylibs/libxcb.1.1.0.dylib\n  Reason: no suitable image found.  Did find:\n\t/Library/Frameworks/Python.framework/Versions/3.11/lib/python3.11/site-packages/PIL/.dylibs/libXdmcp.6.dylib: cannot load 'libXdmcp.6.dylib' (load command 0x80000034 is unknown)\n\t/Library/Frameworks/Python.framework/Versions/3.11/lib/python3.11/site-packages/PIL/.dylibs/libXdmcp.6.dylib: cannot load 'libXdmcp.6.dylib' (load command 0x80000034 is unknown)"
     ]
    }
   ],
   "source": [
    "import pandas as pd\n",
    "import numpy as np\n",
    "import matplotlib.pyplot as plt\n",
    "import seaborn as sns\n",
    "\n",
    "from sklearn.impute import SimpleImputer\n",
    "\n",
    "import autoreload\n",
    "%load_ext autoreload\n",
    "%autoreload 2\n",
    "import python_code.Scripts as sc\n",
    "import python_code.Reference as ref"
   ]
  },
  {
   "cell_type": "code",
   "execution_count": null,
   "id": "c70a20cc",
   "metadata": {},
   "outputs": [],
   "source": []
  }
 ],
 "metadata": {
  "kernelspec": {
   "display_name": "Python 3 (ipykernel)",
   "language": "python",
   "name": "python3"
  },
  "language_info": {
   "codemirror_mode": {
    "name": "ipython",
    "version": 3
   },
   "file_extension": ".py",
   "mimetype": "text/x-python",
   "name": "python",
   "nbconvert_exporter": "python",
   "pygments_lexer": "ipython3",
   "version": "3.11.1"
  }
 },
 "nbformat": 4,
 "nbformat_minor": 5
}
