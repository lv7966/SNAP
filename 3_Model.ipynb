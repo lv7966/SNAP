{
 "cells": [
  {
   "cell_type": "code",
   "execution_count": 1,
   "id": "506c7b65",
   "metadata": {},
   "outputs": [
    {
     "name": "stdout",
     "output_type": "stream",
     "text": [
      "Requirement already satisfied: treeinterpreter in /Users/pandeyadmin/opt/anaconda3/lib/python3.9/site-packages (0.2.3)\n",
      "Note: you may need to restart the kernel to use updated packages.\n"
     ]
    }
   ],
   "source": [
    "pip install treeinterpreter"
   ]
  },
  {
   "cell_type": "code",
   "execution_count": 3,
   "id": "125da4f6",
   "metadata": {},
   "outputs": [
    {
     "name": "stdout",
     "output_type": "stream",
     "text": [
      "The autoreload extension is already loaded. To reload it, use:\n",
      "  %reload_ext autoreload\n"
     ]
    }
   ],
   "source": [
    "import pandas as pd\n",
    "import numpy as np\n",
    "import matplotlib.pyplot as plt\n",
    "import seaborn as sns\n",
    "from pylab import rcParams\n",
    "random_state = 42\n",
    "import autoreload\n",
    "%load_ext autoreload\n",
    "%autoreload 2\n",
    "import python_code.Scripts as sc\n",
    "import python_code.Reference as ref\n",
    "import pickle\n",
    "\n",
    "from sklearn.model_selection import train_test_split,cross_val_score,GridSearchCV\n",
    "from sklearn.metrics import accuracy_score,classification_report,confusion_matrix,recall_score,precision_score\n",
    "from treeinterpreter import treeinterpreter as ti\n",
    "from sklearn.preprocessing import StandardScaler\n",
    "from sklearn.decomposition import PCA\n",
    "\n",
    "from sklearn.linear_model import LogisticRegression\n",
    "from sklearn.tree import DecisionTreeClassifier,ExtraTreeClassifier\n",
    "from sklearn.ensemble import RandomForestClassifier,GradientBoostingClassifier,AdaBoostClassifier,BaggingClassifier, VotingClassifier\n",
    "from sklearn.svm import SVC\n",
    "from sklearn.naive_bayes import GaussianNB"
   ]
  },
  {
   "cell_type": "code",
   "execution_count": 4,
   "id": "1eec500c",
   "metadata": {},
   "outputs": [],
   "source": [
    "df = pd.read_csv(\"./data/final.csv\")"
   ]
  },
  {
   "cell_type": "code",
   "execution_count": 5,
   "id": "bb215176",
   "metadata": {},
   "outputs": [
    {
     "name": "stdout",
     "output_type": "stream",
     "text": [
      "<class 'pandas.core.frame.DataFrame'>\n",
      "RangeIndex: 3904 entries, 0 to 3903\n",
      "Data columns (total 33 columns):\n",
      " #   Column    Non-Null Count  Dtype  \n",
      "---  ------    --------------  -----  \n",
      " 0   FSGRINC   3904 non-null   float64\n",
      " 1   FSWAGES   3904 non-null   float64\n",
      " 2   FSERNDE2  3904 non-null   float64\n",
      " 3   FSSTDDE2  3904 non-null   float64\n",
      " 4   FSTOTDE2  3904 non-null   float64\n",
      " 5   FSERNDED  3904 non-null   float64\n",
      " 6   WRK_POOR  3904 non-null   float64\n",
      " 7   FSSLTDED  3904 non-null   float64\n",
      " 8   HWGT      3904 non-null   float64\n",
      " 9   FSASSET   3904 non-null   float64\n",
      " 10  FSEARN    3904 non-null   float64\n",
      " 11  REALPROP  3904 non-null   float64\n",
      " 12  CERTHHSZ  3904 non-null   float64\n",
      " 13  RAWERND   3904 non-null   float64\n",
      " 14  FSDIS     3904 non-null   float64\n",
      " 15  FSUSIZE   3904 non-null   float64\n",
      " 16  FSSSI     3904 non-null   float64\n",
      " 17  RAWNET    3904 non-null   float64\n",
      " 18  LIQRESOR  3904 non-null   float64\n",
      " 19  FSNELDER  3904 non-null   float64\n",
      " 20  TANF_IND  3904 non-null   float64\n",
      " 21  FSTANF    3904 non-null   float64\n",
      " 22  FSUNEARN  3904 non-null   float64\n",
      " 23  TPOV      3904 non-null   float64\n",
      " 24  SHELDED   3904 non-null   float64\n",
      " 25  FSGA      3904 non-null   float64\n",
      " 26  FSNETINC  3904 non-null   float64\n",
      " 27  FSTOTDED  3904 non-null   float64\n",
      " 28  FSSLTDE2  3904 non-null   float64\n",
      " 29  FSNONCIT  3904 non-null   float64\n",
      " 30  CAT_ELIG  3904 non-null   float64\n",
      " 31  VEHICLEA  3904 non-null   float64\n",
      " 32  FSVEHAST  3904 non-null   float64\n",
      "dtypes: float64(33)\n",
      "memory usage: 1006.6 KB\n"
     ]
    }
   ],
   "source": [
    "df.info()"
   ]
  },
  {
   "cell_type": "markdown",
   "id": "ae2b151c",
   "metadata": {},
   "source": [
    "Data prep"
   ]
  },
  {
   "cell_type": "code",
   "execution_count": 6,
   "id": "44d26770",
   "metadata": {},
   "outputs": [],
   "source": [
    "X = df.drop(columns = ['CAT_ELIG'])\n",
    "y = df['CAT_ELIG']"
   ]
  },
  {
   "cell_type": "code",
   "execution_count": 7,
   "id": "ca9cdaca",
   "metadata": {},
   "outputs": [
    {
     "data": {
      "text/plain": [
       "1.0    0.662398\n",
       "0.0    0.337602\n",
       "Name: CAT_ELIG, dtype: float64"
      ]
     },
     "execution_count": 7,
     "metadata": {},
     "output_type": "execute_result"
    }
   ],
   "source": [
    "#baseline, NULL Model\n",
    "y.value_counts(normalize=True)"
   ]
  },
  {
   "cell_type": "code",
   "execution_count": 8,
   "id": "ada30c2e",
   "metadata": {},
   "outputs": [],
   "source": [
    "X_train, X_test, y_train, y_test = train_test_split(X,y,test_size=.3,random_state=random_state)"
   ]
  },
  {
   "cell_type": "code",
   "execution_count": 9,
   "id": "70b3e45a",
   "metadata": {},
   "outputs": [],
   "source": [
    "ss = StandardScaler()\n",
    "X_train = ss.fit_transform(X_train)\n",
    "X_test = ss.transform(X_test)"
   ]
  },
  {
   "cell_type": "code",
   "execution_count": 10,
   "id": "0afa7c62",
   "metadata": {},
   "outputs": [],
   "source": [
    "np.savetxt('./data/TrainTest/X_train.csv',X_train,delimiter=',')\n",
    "np.savetxt('./data/TrainTest/y_train.csv',y_train,delimiter=',')\n",
    "np.savetxt('./data/TrainTest/X_test.csv',X_test,delimiter=',')\n",
    "np.savetxt('./data/TrainTest/y_test.csv',y_test,delimiter=',')"
   ]
  },
  {
   "cell_type": "code",
   "execution_count": 11,
   "id": "e722d98c",
   "metadata": {},
   "outputs": [],
   "source": [
    "pca = PCA(n_components=10,random_state=42)\n",
    "pca.fit(X_train)\n",
    "X_train_pc = pca.transform(X_train)\n",
    "X_test_pc = pca.transform(X_test)"
   ]
  },
  {
   "cell_type": "markdown",
   "id": "5d479fea",
   "metadata": {},
   "source": [
    "Models"
   ]
  },
  {
   "cell_type": "code",
   "execution_count": 12,
   "id": "78693e99",
   "metadata": {},
   "outputs": [],
   "source": [
    "models = {\n",
    "    'LogReg': LogisticRegression(),\n",
    "    'Decision Tree':DecisionTreeClassifier(),\n",
    "    'Random Forest':RandomForestClassifier(),\n",
    "    'Gradient Boost':GradientBoostingClassifier(),\n",
    "    'Ada Boost':AdaBoostClassifier(),\n",
    "    'SVC':SVC(),\n",
    "    'Naive Bayes':GaussianNB()}"
   ]
  },
  {
   "cell_type": "code",
   "execution_count": 13,
   "id": "c10df60b",
   "metadata": {},
   "outputs": [
    {
     "name": "stderr",
     "output_type": "stream",
     "text": [
      "/var/folders/p0/przrv23x0gngbn37j2v6qcx40000gn/T/ipykernel_37948/1173105481.py:15: FutureWarning: The frame.append method is deprecated and will be removed from pandas in a future version. Use pandas.concat instead.\n",
      "  final = final.append(results,ignore_index=True)\n",
      "/var/folders/p0/przrv23x0gngbn37j2v6qcx40000gn/T/ipykernel_37948/1173105481.py:15: FutureWarning: The frame.append method is deprecated and will be removed from pandas in a future version. Use pandas.concat instead.\n",
      "  final = final.append(results,ignore_index=True)\n",
      "/var/folders/p0/przrv23x0gngbn37j2v6qcx40000gn/T/ipykernel_37948/1173105481.py:15: FutureWarning: The frame.append method is deprecated and will be removed from pandas in a future version. Use pandas.concat instead.\n",
      "  final = final.append(results,ignore_index=True)\n",
      "/var/folders/p0/przrv23x0gngbn37j2v6qcx40000gn/T/ipykernel_37948/1173105481.py:15: FutureWarning: The frame.append method is deprecated and will be removed from pandas in a future version. Use pandas.concat instead.\n",
      "  final = final.append(results,ignore_index=True)\n",
      "/var/folders/p0/przrv23x0gngbn37j2v6qcx40000gn/T/ipykernel_37948/1173105481.py:15: FutureWarning: The frame.append method is deprecated and will be removed from pandas in a future version. Use pandas.concat instead.\n",
      "  final = final.append(results,ignore_index=True)\n",
      "/var/folders/p0/przrv23x0gngbn37j2v6qcx40000gn/T/ipykernel_37948/1173105481.py:15: FutureWarning: The frame.append method is deprecated and will be removed from pandas in a future version. Use pandas.concat instead.\n",
      "  final = final.append(results,ignore_index=True)\n",
      "/var/folders/p0/przrv23x0gngbn37j2v6qcx40000gn/T/ipykernel_37948/1173105481.py:15: FutureWarning: The frame.append method is deprecated and will be removed from pandas in a future version. Use pandas.concat instead.\n",
      "  final = final.append(results,ignore_index=True)\n"
     ]
    }
   ],
   "source": [
    "#adapted from Dan Brown lecture\n",
    "final = pd.DataFrame(columns = ['cross_val_train','cross_val_test','test_recall','test_precision'])\n",
    "idx=0\n",
    "while idx < len(models.keys()):\n",
    "    for name,model in models.items():\n",
    "        results = {}\n",
    "        results['name']=name\n",
    "        name=model.fit(X_train, y_train)\n",
    "        y_pred_train = model.predict(X_train)\n",
    "        y_pred_test = model.predict(X_test)\n",
    "        results['cross_val_train'] = np.mean(cross_val_score(model,X_train,y_train,cv=4))\n",
    "        results['cross_val_test'] = np.mean(cross_val_score(model,X_test,y_test,cv=4))\n",
    "        results['test_recall'] = recall_score(y_test, y_pred_test)\n",
    "        results['test_precision'] = precision_score(y_test, y_pred_test)\n",
    "        final = final.append(results,ignore_index=True)\n",
    "        idx+=1"
   ]
  },
  {
   "cell_type": "code",
   "execution_count": 14,
   "id": "cda8ba58",
   "metadata": {},
   "outputs": [
    {
     "data": {
      "text/html": [
       "<div>\n",
       "<style scoped>\n",
       "    .dataframe tbody tr th:only-of-type {\n",
       "        vertical-align: middle;\n",
       "    }\n",
       "\n",
       "    .dataframe tbody tr th {\n",
       "        vertical-align: top;\n",
       "    }\n",
       "\n",
       "    .dataframe thead th {\n",
       "        text-align: right;\n",
       "    }\n",
       "</style>\n",
       "<table border=\"1\" class=\"dataframe\">\n",
       "  <thead>\n",
       "    <tr style=\"text-align: right;\">\n",
       "      <th></th>\n",
       "      <th>cross_val_train</th>\n",
       "      <th>cross_val_test</th>\n",
       "      <th>test_recall</th>\n",
       "      <th>test_precision</th>\n",
       "    </tr>\n",
       "    <tr>\n",
       "      <th>name</th>\n",
       "      <th></th>\n",
       "      <th></th>\n",
       "      <th></th>\n",
       "      <th></th>\n",
       "    </tr>\n",
       "  </thead>\n",
       "  <tbody>\n",
       "    <tr>\n",
       "      <th>LogReg</th>\n",
       "      <td>0.884334</td>\n",
       "      <td>0.862628</td>\n",
       "      <td>0.900262</td>\n",
       "      <td>0.903821</td>\n",
       "    </tr>\n",
       "    <tr>\n",
       "      <th>Decision Tree</th>\n",
       "      <td>0.905930</td>\n",
       "      <td>0.917235</td>\n",
       "      <td>0.934383</td>\n",
       "      <td>0.929504</td>\n",
       "    </tr>\n",
       "    <tr>\n",
       "      <th>Random Forest</th>\n",
       "      <td>0.938873</td>\n",
       "      <td>0.929181</td>\n",
       "      <td>0.961942</td>\n",
       "      <td>0.959424</td>\n",
       "    </tr>\n",
       "    <tr>\n",
       "      <th>Gradient Boost</th>\n",
       "      <td>0.940337</td>\n",
       "      <td>0.929181</td>\n",
       "      <td>0.955381</td>\n",
       "      <td>0.955381</td>\n",
       "    </tr>\n",
       "    <tr>\n",
       "      <th>Ada Boost</th>\n",
       "      <td>0.922035</td>\n",
       "      <td>0.920648</td>\n",
       "      <td>0.937008</td>\n",
       "      <td>0.939474</td>\n",
       "    </tr>\n",
       "    <tr>\n",
       "      <th>SVC</th>\n",
       "      <td>0.884700</td>\n",
       "      <td>0.854949</td>\n",
       "      <td>0.901575</td>\n",
       "      <td>0.928378</td>\n",
       "    </tr>\n",
       "    <tr>\n",
       "      <th>Naive Bayes</th>\n",
       "      <td>0.767204</td>\n",
       "      <td>0.741468</td>\n",
       "      <td>0.833333</td>\n",
       "      <td>0.908441</td>\n",
       "    </tr>\n",
       "  </tbody>\n",
       "</table>\n",
       "</div>"
      ],
      "text/plain": [
       "                cross_val_train  cross_val_test  test_recall  test_precision\n",
       "name                                                                        \n",
       "LogReg                 0.884334        0.862628     0.900262        0.903821\n",
       "Decision Tree          0.905930        0.917235     0.934383        0.929504\n",
       "Random Forest          0.938873        0.929181     0.961942        0.959424\n",
       "Gradient Boost         0.940337        0.929181     0.955381        0.955381\n",
       "Ada Boost              0.922035        0.920648     0.937008        0.939474\n",
       "SVC                    0.884700        0.854949     0.901575        0.928378\n",
       "Naive Bayes            0.767204        0.741468     0.833333        0.908441"
      ]
     },
     "execution_count": 14,
     "metadata": {},
     "output_type": "execute_result"
    }
   ],
   "source": [
    "final.set_index('name')"
   ]
  },
  {
   "cell_type": "markdown",
   "id": "a1b5a61b",
   "metadata": {},
   "source": [
    "Running models"
   ]
  },
  {
   "cell_type": "markdown",
   "id": "97c98f5d",
   "metadata": {},
   "source": [
    "Random Forest"
   ]
  },
  {
   "cell_type": "code",
   "execution_count": 34,
   "id": "1895dcfe",
   "metadata": {},
   "outputs": [
    {
     "name": "stdout",
     "output_type": "stream",
     "text": [
      "0.9469252867790345\n"
     ]
    },
    {
     "data": {
      "text/plain": [
       "{'max_depth': 15, 'max_features': 'sqrt', 'n_estimators': 200}"
      ]
     },
     "execution_count": 34,
     "metadata": {},
     "output_type": "execute_result"
    }
   ],
   "source": [
    "rf = RandomForestClassifier()\n",
    "params={'max_depth':[None,15],\n",
    "        'max_features':['sqrt','auto'],\n",
    "        'n_estimators':[75,200]}\n",
    "rf_gs = GridSearchCV(rf,param_grid=params)\n",
    "rf_gs.fit(X_train,y_train)\n",
    "print(rf_gs.best_score_)\n",
    "rf_gs.best_params_"
   ]
  },
  {
   "cell_type": "code",
   "execution_count": 35,
   "id": "a92b8f6f",
   "metadata": {},
   "outputs": [
    {
     "data": {
      "text/plain": [
       "RandomForestClassifier()"
      ]
     },
     "execution_count": 35,
     "metadata": {},
     "output_type": "execute_result"
    }
   ],
   "source": [
    "rf = RandomForestClassifier()\n",
    "rf.fit(X_train,y_train)"
   ]
  },
  {
   "cell_type": "code",
   "execution_count": 36,
   "id": "85de1cbe",
   "metadata": {},
   "outputs": [
    {
     "data": {
      "text/plain": [
       "array([[-1.25472977, -0.55893964, -0.56404251, -1.59315573, -1.28640995,\n",
       "        -0.59758589, -0.76825854,  1.0459183 , -0.51614194, -0.24309398,\n",
       "        -0.59800159, -0.03517855,  1.02614408, -0.59885312, -0.51403261,\n",
       "         1.02614408, -0.42833737, -0.88061189, -0.24501332, -0.40909055,\n",
       "        -0.36488324, -0.34230342, -0.91848291, -1.49056789,  1.00652396,\n",
       "        -0.1335093 , -0.8826584 ,  0.39411313, -0.87253073,  1.78070948,\n",
       "        -0.35352552, -0.02833014]])"
      ]
     },
     "execution_count": 36,
     "metadata": {},
     "output_type": "execute_result"
    }
   ],
   "source": [
    "instances = X_test[[735]]\n",
    "instances"
   ]
  },
  {
   "cell_type": "code",
   "execution_count": 37,
   "id": "a0edb2e3",
   "metadata": {},
   "outputs": [
    {
     "name": "stdout",
     "output_type": "stream",
     "text": [
      "Prediction [[0.62 0.38]]\n",
      "Bias (trainset prior) [[0.33174231 0.66825769]]\n",
      "Feature contributions:\n",
      "FSGRINC [ 0.0026448 -0.0026448]\n",
      "FSWAGES [-0.01099331  0.01099331]\n",
      "FSERNDE2 [-0.00583108  0.00583108]\n",
      "FSSTDDE2 [ 0.04515794 -0.04515794]\n",
      "FSTOTDE2 [ 0.00200747 -0.00200747]\n",
      "FSERNDED [-0.01357972  0.01357972]\n",
      "WRK_POOR [-0.00580827  0.00580827]\n",
      "FSSLTDED [ 0.10773816 -0.10773816]\n",
      "HWGT [ 0.04341826 -0.04341826]\n",
      "FSASSET [-0.0244044  0.0244044]\n",
      "FSEARN [-0.00713612  0.00713612]\n",
      "REALPROP [0. 0.]\n",
      "CERTHHSZ [ 0.05141149 -0.05141149]\n",
      "RAWERND [-0.01736961  0.01736961]\n",
      "FSDIS [ 0.00081365 -0.00081365]\n",
      "FSUSIZE [ 0.01545009 -0.01545009]\n",
      "FSSSI [ 0.00879036 -0.00879036]\n",
      "RAWNET [-0.00156746  0.00156746]\n",
      "LIQRESOR [-0.02880529  0.02880529]\n",
      "FSNELDER [ 0.00085358 -0.00085358]\n",
      "TANF_IND [ 0.02014572 -0.02014572]\n",
      "FSTANF [ 0.02039028 -0.02039028]\n",
      "FSUNEARN [ 0.03702869 -0.03702869]\n",
      "TPOV [-0.01604186  0.01604186]\n",
      "SHELDED [ 0.10495893 -0.10495893]\n",
      "FSGA [ 0.00295953 -0.00295953]\n",
      "FSNETINC [-0.00539847  0.00539847]\n",
      "FSTOTDED [-0.01753554  0.01753554]\n",
      "FSSLTDE2 [-0.01087804  0.01087804]\n",
      "FSNONCIT [ 0.00170198 -0.00170198]\n",
      "VEHICLEA [-0.01186406  0.01186406]\n",
      "FSVEHAST [0. 0.]\n"
     ]
    }
   ],
   "source": [
    "ft_list = []\n",
    "prediction, bias, contributions = ti.predict(rf, instances)\n",
    "print( \"Prediction\", prediction)\n",
    "print( \"Bias (trainset prior)\", bias)\n",
    "print (\"Feature contributions:\")\n",
    "for c, feature in zip(contributions[0], \n",
    "                             X.columns):\n",
    "#the above line will print out the contributions\n",
    "    ft_list.append((feature, np.round(c, 2)))\n",
    "    print (feature, c)\n",
    "#this will append it to our empty feature list\n",
    "labels, values = zip(*ft_list)"
   ]
  },
  {
   "cell_type": "code",
   "execution_count": 38,
   "id": "55da2532",
   "metadata": {},
   "outputs": [],
   "source": [
    "df1 = pd.DataFrame(ft_list,columns=['feature','array'])\n",
    "df2 = pd.DataFrame(df1[\"array\"].to_list(), columns=['pred_0', 'pred_1'])\n",
    "coef_df = pd.concat([df1,df2],axis=1).drop(columns=['array'])\n",
    "coef_df.to_csv('./data/2018_indicators/coef.csv',index=None)"
   ]
  },
  {
   "cell_type": "code",
   "execution_count": 39,
   "id": "805adca1",
   "metadata": {},
   "outputs": [
    {
     "data": {
      "image/png": "[encoded data removed]",
      "text/plain": [
       "<Figure size 2000x1000 with 1 Axes>"
      ]
     },
     "metadata": {},
     "output_type": "display_data"
    }
   ],
   "source": [
    "fig, ax = plt.subplots(figsize=(20,10))\n",
    "plt.title('Random Forest range of Coefficients Effect on SNAP \\n (the larger the range, the more impact on predicting SNAP)')\n",
    "plt.grid(zorder=0,alpha = 0.2)\n",
    "xs = np.arange(len(labels))\n",
    "ax.bar(xs,coef_df['pred_0'], label = 'pred 0')\n",
    "ax.bar(xs,coef_df['pred_1'],label = 'pred 1')\n",
    "ax.axhline(y=0, linestyle='--', color='black', linewidth=4)\n",
    "ax.set_xticks(coef_df.index)\n",
    "ax.set_xticklabels(coef_df['feature'],rotation = 45)\n",
    "plt.legend()\n",
    "plt.savefig('./images/rf_corr.png');"
   ]
  },
  {
   "cell_type": "code",
   "execution_count": 40,
   "id": "7b291e59",
   "metadata": {},
   "outputs": [
    {
     "name": "stdout",
     "output_type": "stream",
     "text": [
      "cross_val_train = 0.7269399707174231\n",
      "cross_val_test = 0.7133105802047782\n",
      "test_recall = 0.9409448818897638\n",
      "test_precision = 0.9624161073825503\n"
     ]
    }
   ],
   "source": [
    "bag = BaggingClassifier()\n",
    "bag.fit(X_train,y_train)\n",
    "y_pred_train = bag.predict(X_train)\n",
    "y_pred_test = bag.predict(X_test)\n",
    "print(f'cross_val_train = {np.mean(cross_val_score(model,X_train_pc,y_train,cv=4))}')\n",
    "print(f'cross_val_test = {np.mean(cross_val_score(model,X_test_pc,y_test,cv=4))}')\n",
    "print(f'test_recall = {recall_score(y_test, y_pred_test)}')\n",
    "print(f'test_precision = {precision_score(y_test, y_pred_test)}')"
   ]
  },
  {
   "cell_type": "code",
   "execution_count": 41,
   "id": "0b0c8f60",
   "metadata": {},
   "outputs": [],
   "source": [
    "vote = VotingClassifier([\n",
    "    ('rf',RandomForestClassifier(bootstrap=False,n_estimators=1000)),\n",
    "    ('gb',GradientBoostingClassifier(max_depth=10,subsample=0.8)),\n",
    "    ('bag',BaggingClassifier(n_estimators = 10))\n",
    "])"
   ]
  },
  {
   "cell_type": "code",
   "execution_count": 42,
   "id": "f29e5311",
   "metadata": {},
   "outputs": [
    {
     "data": {
      "text/plain": [
       "VotingClassifier(estimators=[('rf',\n",
       "                              RandomForestClassifier(bootstrap=False,\n",
       "                                                     n_estimators=1000)),\n",
       "                             ('gb',\n",
       "                              GradientBoostingClassifier(max_depth=10,\n",
       "                                                         subsample=0.8)),\n",
       "                             ('bag', BaggingClassifier())])"
      ]
     },
     "execution_count": 42,
     "metadata": {},
     "output_type": "execute_result"
    }
   ],
   "source": [
    "vote.fit(X_train,y_train)"
   ]
  },
  {
   "cell_type": "code",
   "execution_count": 43,
   "id": "ac6a9940",
   "metadata": {},
   "outputs": [],
   "source": [
    "filename = 'final_model.sav'\n",
    "pickle.dump(vote, open(filename, 'wb'))"
   ]
  },
  {
   "cell_type": "code",
   "execution_count": null,
   "id": "d9373d8a",
   "metadata": {},
   "outputs": [],
   "source": []
  }
 ],
 "metadata": {
  "kernelspec": {
   "display_name": "Python 3 (ipykernel)",
   "language": "python",
   "name": "python3"
  },
  "language_info": {
   "codemirror_mode": {
    "name": "ipython",
    "version": 3
   },
   "file_extension": ".py",
   "mimetype": "text/x-python",
   "name": "python",
   "nbconvert_exporter": "python",
   "pygments_lexer": "ipython3",
   "version": "3.9.13"
  }
 },
 "nbformat": 4,
 "nbformat_minor": 5
}
