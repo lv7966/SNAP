{
 "cells": [
  {
   "cell_type": "code",
   "execution_count": 1,
   "id": "0072131a",
   "metadata": {},
   "outputs": [
    {
     "name": "stdout",
     "output_type": "stream",
     "text": [
      "Collecting scikit-learn\n",
      "  Using cached scikit_learn-1.2.0-cp311-cp311-macosx_10_9_x86_64.whl (9.0 MB)\n",
      "Requirement already satisfied: numpy>=1.17.3 in /Library/Frameworks/Python.framework/Versions/3.11/lib/python3.11/site-packages (from scikit-learn) (1.24.1)\n",
      "Collecting scipy>=1.3.2\n",
      "  Using cached scipy-1.10.0.tar.gz (42.4 MB)\n",
      "  Installing build dependencies ... \u001b[?25ldone\n",
      "\u001b[?25h  Getting requirements to build wheel ... \u001b[?25ldone\n",
      "\u001b[?25h  Installing backend dependencies ... \u001b[?25ldone\n",
      "\u001b[?25h  Preparing metadata (pyproject.toml) ... \u001b[?25lerror\n",
      "  \u001b[1;31merror\u001b[0m: \u001b[1msubprocess-exited-with-error\u001b[0m\n",
      "  \n",
      "  \u001b[31m×\u001b[0m \u001b[32mPreparing metadata \u001b[0m\u001b[1;32m(\u001b[0m\u001b[32mpyproject.toml\u001b[0m\u001b[1;32m)\u001b[0m did not run successfully.\n",
      "  \u001b[31m│\u001b[0m exit code: \u001b[1;36m1\u001b[0m\n",
      "  \u001b[31m╰─>\u001b[0m \u001b[31m[81 lines of output]\u001b[0m\n",
      "  \u001b[31m   \u001b[0m The Meson build system\n",
      "  \u001b[31m   \u001b[0m Version: 1.0.0\n",
      "  \u001b[31m   \u001b[0m Source dir: /private/var/folders/sn/kfvf12317rdf_20kbwkr42mw0000gn/T/pip-install-alzb10h0/scipy_32a7b5d2789340c79fbb8b58ac68ba72\n",
      "  \u001b[31m   \u001b[0m Build dir: /private/var/folders/sn/kfvf12317rdf_20kbwkr42mw0000gn/T/pip-install-alzb10h0/scipy_32a7b5d2789340c79fbb8b58ac68ba72/.mesonpy-i60up3m2/build\n",
      "  \u001b[31m   \u001b[0m Build type: native build\n",
      "  \u001b[31m   \u001b[0m Project name: SciPy\n",
      "  \u001b[31m   \u001b[0m Project version: 1.10.0\n",
      "  \u001b[31m   \u001b[0m C compiler for the host machine: cc (clang 10.0.0 \"Apple LLVM version 10.0.0 (clang-1000.10.44.4)\")\n",
      "  \u001b[31m   \u001b[0m C linker for the host machine: cc ld64 409.12\n",
      "  \u001b[31m   \u001b[0m C++ compiler for the host machine: c++ (clang 10.0.0 \"Apple LLVM version 10.0.0 (clang-1000.10.44.4)\")\n",
      "  \u001b[31m   \u001b[0m C++ linker for the host machine: c++ ld64 409.12\n",
      "  \u001b[31m   \u001b[0m Host machine cpu family: x86_64\n",
      "  \u001b[31m   \u001b[0m Host machine cpu: x86_64\n",
      "  \u001b[31m   \u001b[0m Compiler for C supports arguments -Wno-unused-but-set-variable: NO\n",
      "  \u001b[31m   \u001b[0m Compiler for C supports arguments -Wno-unused-function: YES\n",
      "  \u001b[31m   \u001b[0m Compiler for C supports arguments -Wno-conversion: YES\n",
      "  \u001b[31m   \u001b[0m Compiler for C supports arguments -Wno-misleading-indentation: NO\n",
      "  \u001b[31m   \u001b[0m Compiler for C supports arguments -Wno-incompatible-pointer-types: YES\n",
      "  \u001b[31m   \u001b[0m Library m found: YES\n",
      "  \u001b[31m   \u001b[0m \n",
      "  \u001b[31m   \u001b[0m ../../meson.build:63:0: ERROR: Unknown compiler(s): [['gfortran'], ['flang'], ['nvfortran'], ['pgfortran'], ['ifort'], ['ifx'], ['g95']]\n",
      "  \u001b[31m   \u001b[0m The following exception(s) were encountered:\n",
      "  \u001b[31m   \u001b[0m Running `gfortran --version` gave \"[Errno 2] No such file or directory: 'gfortran'\"\n",
      "  \u001b[31m   \u001b[0m Running `gfortran -V` gave \"[Errno 2] No such file or directory: 'gfortran'\"\n",
      "  \u001b[31m   \u001b[0m Running `flang --version` gave \"[Errno 2] No such file or directory: 'flang'\"\n",
      "  \u001b[31m   \u001b[0m Running `flang -V` gave \"[Errno 2] No such file or directory: 'flang'\"\n",
      "  \u001b[31m   \u001b[0m Running `nvfortran --version` gave \"[Errno 2] No such file or directory: 'nvfortran'\"\n",
      "  \u001b[31m   \u001b[0m Running `nvfortran -V` gave \"[Errno 2] No such file or directory: 'nvfortran'\"\n",
      "  \u001b[31m   \u001b[0m Running `pgfortran --version` gave \"[Errno 2] No such file or directory: 'pgfortran'\"\n",
      "  \u001b[31m   \u001b[0m Running `pgfortran -V` gave \"[Errno 2] No such file or directory: 'pgfortran'\"\n",
      "  \u001b[31m   \u001b[0m Running `ifort --version` gave \"[Errno 2] No such file or directory: 'ifort'\"\n",
      "  \u001b[31m   \u001b[0m Running `ifort -V` gave \"[Errno 2] No such file or directory: 'ifort'\"\n",
      "  \u001b[31m   \u001b[0m Running `ifx --version` gave \"[Errno 2] No such file or directory: 'ifx'\"\n",
      "  \u001b[31m   \u001b[0m Running `ifx -V` gave \"[Errno 2] No such file or directory: 'ifx'\"\n",
      "  \u001b[31m   \u001b[0m Running `g95 --version` gave \"[Errno 2] No such file or directory: 'g95'\"\n",
      "  \u001b[31m   \u001b[0m Running `g95 -V` gave \"[Errno 2] No such file or directory: 'g95'\"\n",
      "  \u001b[31m   \u001b[0m \n",
      "  \u001b[31m   \u001b[0m A full log can be found at /private/var/folders/sn/kfvf12317rdf_20kbwkr42mw0000gn/T/pip-install-alzb10h0/scipy_32a7b5d2789340c79fbb8b58ac68ba72/.mesonpy-i60up3m2/build/meson-logs/meson-log.txt\n",
      "  \u001b[31m   \u001b[0m \u001b[36m\u001b[1m+ meson setup --prefix=/Library/Frameworks/Python.framework/Versions/3.11 /private/var/folders/sn/kfvf12317rdf_20kbwkr42mw0000gn/T/pip-install-alzb10h0/scipy_32a7b5d2789340c79fbb8b58ac68ba72 /private/var/folders/sn/kfvf12317rdf_20kbwkr42mw0000gn/T/pip-install-alzb10h0/scipy_32a7b5d2789340c79fbb8b58ac68ba72/.mesonpy-i60up3m2/build --native-file=/private/var/folders/sn/kfvf12317rdf_20kbwkr42mw0000gn/T/pip-install-alzb10h0/scipy_32a7b5d2789340c79fbb8b58ac68ba72/.mesonpy-native-file.ini -Ddebug=false -Doptimization=2\u001b[0m\n",
      "  \u001b[31m   \u001b[0m Traceback (most recent call last):\n",
      "  \u001b[31m   \u001b[0m   File \"/Library/Frameworks/Python.framework/Versions/3.11/lib/python3.11/site-packages/pip/_vendor/pep517/in_process/_in_process.py\", line 144, in prepare_metadata_for_build_wheel\n",
      "  \u001b[31m   \u001b[0m     hook = backend.prepare_metadata_for_build_wheel\n",
      "  \u001b[31m   \u001b[0m            ^^^^^^^^^^^^^^^^^^^^^^^^^^^^^^^^^^^^^^^^\n",
      "  \u001b[31m   \u001b[0m AttributeError: module 'mesonpy' has no attribute 'prepare_metadata_for_build_wheel'\n",
      "  \u001b[31m   \u001b[0m \n",
      "  \u001b[31m   \u001b[0m During handling of the above exception, another exception occurred:\n",
      "  \u001b[31m   \u001b[0m \n",
      "  \u001b[31m   \u001b[0m Traceback (most recent call last):\n",
      "  \u001b[31m   \u001b[0m   File \"/Library/Frameworks/Python.framework/Versions/3.11/lib/python3.11/site-packages/pip/_vendor/pep517/in_process/_in_process.py\", line 351, in <module>\n",
      "  \u001b[31m   \u001b[0m     main()\n",
      "  \u001b[31m   \u001b[0m   File \"/Library/Frameworks/Python.framework/Versions/3.11/lib/python3.11/site-packages/pip/_vendor/pep517/in_process/_in_process.py\", line 333, in main\n",
      "  \u001b[31m   \u001b[0m     json_out['return_val'] = hook(**hook_input['kwargs'])\n",
      "  \u001b[31m   \u001b[0m                              ^^^^^^^^^^^^^^^^^^^^^^^^^^^^\n",
      "  \u001b[31m   \u001b[0m   File \"/Library/Frameworks/Python.framework/Versions/3.11/lib/python3.11/site-packages/pip/_vendor/pep517/in_process/_in_process.py\", line 148, in prepare_metadata_for_build_wheel\n",
      "  \u001b[31m   \u001b[0m     whl_basename = backend.build_wheel(metadata_directory, config_settings)\n",
      "  \u001b[31m   \u001b[0m                    ^^^^^^^^^^^^^^^^^^^^^^^^^^^^^^^^^^^^^^^^^^^^^^^^^^^^^^^^\n",
      "  \u001b[31m   \u001b[0m   File \"/private/var/folders/sn/kfvf12317rdf_20kbwkr42mw0000gn/T/pip-build-env-3g6u8exf/overlay/lib/python3.11/site-packages/mesonpy/__init__.py\", line 1060, in build_wheel\n",
      "  \u001b[31m   \u001b[0m     with _project(config_settings) as project:\n",
      "  \u001b[31m   \u001b[0m   File \"/Library/Frameworks/Python.framework/Versions/3.11/lib/python3.11/contextlib.py\", line 137, in __enter__\n",
      "  \u001b[31m   \u001b[0m     return next(self.gen)\n",
      "  \u001b[31m   \u001b[0m            ^^^^^^^^^^^^^^\n",
      "  \u001b[31m   \u001b[0m   File \"/private/var/folders/sn/kfvf12317rdf_20kbwkr42mw0000gn/T/pip-build-env-3g6u8exf/overlay/lib/python3.11/site-packages/mesonpy/__init__.py\", line 975, in _project\n",
      "  \u001b[31m   \u001b[0m     with Project.with_temp_working_dir(\n",
      "  \u001b[31m   \u001b[0m   File \"/Library/Frameworks/Python.framework/Versions/3.11/lib/python3.11/contextlib.py\", line 137, in __enter__\n",
      "  \u001b[31m   \u001b[0m     return next(self.gen)\n",
      "  \u001b[31m   \u001b[0m            ^^^^^^^^^^^^^^\n",
      "  \u001b[31m   \u001b[0m   File \"/private/var/folders/sn/kfvf12317rdf_20kbwkr42mw0000gn/T/pip-build-env-3g6u8exf/overlay/lib/python3.11/site-packages/mesonpy/__init__.py\", line 750, in with_temp_working_dir\n",
      "  \u001b[31m   \u001b[0m     yield cls(source_dir, tmpdir, build_dir, meson_args)\n",
      "  \u001b[31m   \u001b[0m           ^^^^^^^^^^^^^^^^^^^^^^^^^^^^^^^^^^^^^^^^^^^^^^\n",
      "  \u001b[31m   \u001b[0m   File \"/private/var/folders/sn/kfvf12317rdf_20kbwkr42mw0000gn/T/pip-build-env-3g6u8exf/overlay/lib/python3.11/site-packages/mesonpy/__init__.py\", line 632, in __init__\n",
      "  \u001b[31m   \u001b[0m     self._configure(reconfigure=bool(build_dir) and not native_file_mismatch)\n",
      "  \u001b[31m   \u001b[0m   File \"/private/var/folders/sn/kfvf12317rdf_20kbwkr42mw0000gn/T/pip-build-env-3g6u8exf/overlay/lib/python3.11/site-packages/mesonpy/__init__.py\", line 680, in _configure\n",
      "  \u001b[31m   \u001b[0m     self._meson('setup', *setup_args)\n",
      "  \u001b[31m   \u001b[0m   File \"/private/var/folders/sn/kfvf12317rdf_20kbwkr42mw0000gn/T/pip-build-env-3g6u8exf/overlay/lib/python3.11/site-packages/mesonpy/__init__.py\", line 657, in _meson\n",
      "  \u001b[31m   \u001b[0m     return self._proc('meson', *args)\n",
      "  \u001b[31m   \u001b[0m            ^^^^^^^^^^^^^^^^^^^^^^^^^^\n",
      "  \u001b[31m   \u001b[0m   File \"/private/var/folders/sn/kfvf12317rdf_20kbwkr42mw0000gn/T/pip-build-env-3g6u8exf/overlay/lib/python3.11/site-packages/mesonpy/__init__.py\", line 652, in _proc\n",
      "  \u001b[31m   \u001b[0m     subprocess.check_call(list(args), env=self._env)\n",
      "  \u001b[31m   \u001b[0m   File \"/Library/Frameworks/Python.framework/Versions/3.11/lib/python3.11/subprocess.py\", line 413, in check_call\n",
      "  \u001b[31m   \u001b[0m     raise CalledProcessError(retcode, cmd)\n",
      "  \u001b[31m   \u001b[0m subprocess.CalledProcessError: Command '['meson', 'setup', '--prefix=/Library/Frameworks/Python.framework/Versions/3.11', '/private/var/folders/sn/kfvf12317rdf_20kbwkr42mw0000gn/T/pip-install-alzb10h0/scipy_32a7b5d2789340c79fbb8b58ac68ba72', '/private/var/folders/sn/kfvf12317rdf_20kbwkr42mw0000gn/T/pip-install-alzb10h0/scipy_32a7b5d2789340c79fbb8b58ac68ba72/.mesonpy-i60up3m2/build', '--native-file=/private/var/folders/sn/kfvf12317rdf_20kbwkr42mw0000gn/T/pip-install-alzb10h0/scipy_32a7b5d2789340c79fbb8b58ac68ba72/.mesonpy-native-file.ini', '-Ddebug=false', '-Doptimization=2']' returned non-zero exit status 1.\n",
      "  \u001b[31m   \u001b[0m \u001b[31m[end of output]\u001b[0m\n",
      "  \n",
      "  \u001b[1;35mnote\u001b[0m: This error originates from a subprocess, and is likely not a problem with pip.\n",
      "\u001b[1;31merror\u001b[0m: \u001b[1mmetadata-generation-failed\u001b[0m\n",
      "\n",
      "\u001b[31m×\u001b[0m Encountered error while generating package metadata.\n",
      "\u001b[31m╰─>\u001b[0m See above for output.\n",
      "\n",
      "\u001b[1;35mnote\u001b[0m: This is an issue with the package mentioned above, not pip.\n",
      "\u001b[1;36mhint\u001b[0m: See above for details.\n"
     ]
    },
    {
     "name": "stdout",
     "output_type": "stream",
     "text": [
      "\u001b[?25hNote: you may need to restart the kernel to use updated packages.\n"
     ]
    }
   ],
   "source": [
    "pip install -U scikit-learn"
   ]
  },
  {
   "cell_type": "code",
   "execution_count": 3,
   "id": "2a90f718",
   "metadata": {},
   "outputs": [
    {
     "ename": "SyntaxError",
     "evalue": "invalid syntax (2447441821.py, line 1)",
     "output_type": "error",
     "traceback": [
      "\u001b[0;36m  Cell \u001b[0;32mIn[3], line 1\u001b[0;36m\u001b[0m\n\u001b[0;31m    python -m pip install -U matplotlib\u001b[0m\n\u001b[0m              ^\u001b[0m\n\u001b[0;31mSyntaxError\u001b[0m\u001b[0;31m:\u001b[0m invalid syntax\n"
     ]
    }
   ],
   "source": [
    "python -m pip install -U matplotlib"
   ]
  },
  {
   "cell_type": "code",
   "execution_count": 5,
   "id": "e8f64aaf",
   "metadata": {},
   "outputs": [
    {
     "name": "stdout",
     "output_type": "stream",
     "text": [
      "Requirement already satisfied: pandas in /Library/Frameworks/Python.framework/Versions/3.11/lib/python3.11/site-packages (1.5.2)\n",
      "Requirement already satisfied: python-dateutil>=2.8.1 in /Library/Frameworks/Python.framework/Versions/3.11/lib/python3.11/site-packages (from pandas) (2.8.2)\n",
      "Requirement already satisfied: pytz>=2020.1 in /Library/Frameworks/Python.framework/Versions/3.11/lib/python3.11/site-packages (from pandas) (2022.7)\n",
      "Requirement already satisfied: numpy>=1.21.0 in /Library/Frameworks/Python.framework/Versions/3.11/lib/python3.11/site-packages (from pandas) (1.24.1)\n",
      "Requirement already satisfied: six>=1.5 in /Library/Frameworks/Python.framework/Versions/3.11/lib/python3.11/site-packages (from python-dateutil>=2.8.1->pandas) (1.16.0)\n",
      "Note: you may need to restart the kernel to use updated packages.\n"
     ]
    }
   ],
   "source": [
    "pip install pandas"
   ]
  },
  {
   "cell_type": "code",
   "execution_count": null,
   "id": "d380e0fb",
   "metadata": {},
   "outputs": [],
   "source": []
  }
 ],
 "metadata": {
  "kernelspec": {
   "display_name": "Python 3 (ipykernel)",
   "language": "python",
   "name": "python3"
  },
  "language_info": {
   "codemirror_mode": {
    "name": "ipython",
    "version": 3
   },
   "file_extension": ".py",
   "mimetype": "text/x-python",
   "name": "python",
   "nbconvert_exporter": "python",
   "pygments_lexer": "ipython3",
   "version": "3.11.1"
  }
 },
 "nbformat": 4,
 "nbformat_minor": 5
}
